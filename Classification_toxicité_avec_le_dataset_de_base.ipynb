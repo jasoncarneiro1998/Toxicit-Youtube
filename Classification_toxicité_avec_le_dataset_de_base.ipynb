{
 "cells": [
  {
   "cell_type": "markdown",
   "metadata": {},
   "source": [
    "# Challenge 2"
   ]
  },
  {
   "cell_type": "markdown",
   "metadata": {},
   "source": [
    "## Modèle de classification de la toxicité sur le Dataset de base"
   ]
  },
  {
   "cell_type": "code",
   "execution_count": 152,
   "metadata": {},
   "outputs": [],
   "source": [
    "import numpy as np\n",
    "import pandas as pd\n",
    "import matplotlib.pyplot as plt\n",
    "import seaborn as sns"
   ]
  },
  {
   "cell_type": "code",
   "execution_count": 153,
   "metadata": {},
   "outputs": [],
   "source": [
    "data = pd.read_csv('challenge_youtube_toxic.csv', sep=\";\", encoding = \"ISO-8859-1\")"
   ]
  },
  {
   "cell_type": "code",
   "execution_count": 154,
   "metadata": {},
   "outputs": [],
   "source": [
    "pd.set_option('display.max_row', 28)\n",
    "pd.set_option('display.max_column',28)"
   ]
  },
  {
   "cell_type": "code",
   "execution_count": 155,
   "metadata": {},
   "outputs": [],
   "source": [
    "df = data.copy()"
   ]
  },
  {
   "cell_type": "code",
   "execution_count": 156,
   "metadata": {},
   "outputs": [
    {
     "data": {
      "text/plain": [
       "(46102, 27)"
      ]
     },
     "execution_count": 156,
     "metadata": {},
     "output_type": "execute_result"
    }
   ],
   "source": [
    "df.shape"
   ]
  },
  {
   "cell_type": "code",
   "execution_count": 157,
   "metadata": {},
   "outputs": [],
   "source": [
    "df.drop(['video_id_court','video_id','channel_id'], axis=1, inplace=True)"
   ]
  },
  {
   "cell_type": "markdown",
   "metadata": {},
   "source": [
    "## Apprentissage non supervisée"
   ]
  },
  {
   "cell_type": "markdown",
   "metadata": {},
   "source": [
    "**L'idée est de regarder si notre modèle est capable de distinguer différentes classes.**"
   ]
  },
  {
   "cell_type": "markdown",
   "metadata": {},
   "source": [
    "**Si c'est le cas cela pourra nous être utile pour définir nos classes de toxicité.**"
   ]
  },
  {
   "cell_type": "markdown",
   "metadata": {},
   "source": [
    "**Méthode des Kmeans**"
   ]
  },
  {
   "cell_type": "code",
   "execution_count": 158,
   "metadata": {},
   "outputs": [],
   "source": [
    "# K-means function\n",
    "from sklearn.cluster import KMeans"
   ]
  },
  {
   "cell_type": "code",
   "execution_count": 159,
   "metadata": {},
   "outputs": [],
   "source": [
    "#On fait le trie sur les variables pour utiliser la fonction Kmeans\n",
    "\n",
    "X = df.drop(['categorie_new', 'categ_inst', 'channel_name'], axis=1)\n",
    "\n",
    "n_clusters=30\n",
    "cost=[]\n",
    "for i in range(1,n_clusters):\n",
    "    kmean= KMeans(i)\n",
    "    kmean.fit(X)\n",
    "    cost.append(kmean.inertia_)  "
   ]
  },
  {
   "cell_type": "code",
   "execution_count": 160,
   "metadata": {},
   "outputs": [
    {
     "data": {
      "text/plain": [
       "[<matplotlib.lines.Line2D at 0x2cbdb464b20>]"
      ]
     },
     "execution_count": 160,
     "metadata": {},
     "output_type": "execute_result"
    },
    {
     "data": {
      "image/png": "[encoded data removed]",
      "text/plain": [
       "<Figure size 432x288 with 1 Axes>"
      ]
     },
     "metadata": {
      "needs_background": "light"
     },
     "output_type": "display_data"
    }
   ],
   "source": [
    "#On affiche les résultat de la fonction\n",
    "plt.plot(cost, 'bx-')"
   ]
  },
  {
   "cell_type": "markdown",
   "metadata": {},
   "source": [
    "**On peut remarquer qu'il ya un \"coude\" pour 1,2,3.**"
   ]
  },
  {
   "cell_type": "markdown",
   "metadata": {},
   "source": [
    "**Où 1,2 et 3 définissent le nombre de classe qu'aurait trouvé le modèle en utilisant la méthode des Kmeans.**"
   ]
  },
  {
   "cell_type": "markdown",
   "metadata": {},
   "source": [
    "**Prenons par exemple 3 classes :**"
   ]
  },
  {
   "cell_type": "code",
   "execution_count": 161,
   "metadata": {},
   "outputs": [],
   "source": [
    "#On définit 3 classes avec la méthode des Kmeans\n",
    "\n",
    "kmean= KMeans(3)\n",
    "kmean.fit(X)\n",
    "labels=kmean.labels_"
   ]
  },
  {
   "cell_type": "code",
   "execution_count": 162,
   "metadata": {},
   "outputs": [
    {
     "data": {
      "text/html": [
       "<div>\n",
       "<style scoped>\n",
       "    .dataframe tbody tr th:only-of-type {\n",
       "        vertical-align: middle;\n",
       "    }\n",
       "\n",
       "    .dataframe tbody tr th {\n",
       "        vertical-align: top;\n",
       "    }\n",
       "\n",
       "    .dataframe thead th {\n",
       "        text-align: right;\n",
       "    }\n",
       "</style>\n",
       "<table border=\"1\" class=\"dataframe\">\n",
       "  <thead>\n",
       "    <tr style=\"text-align: right;\">\n",
       "      <th></th>\n",
       "      <th>nbrMot</th>\n",
       "      <th>nbrMotInsulte</th>\n",
       "      <th>nbrMotAllong</th>\n",
       "      <th>nbrMotMAJ</th>\n",
       "      <th>nbrExclMark</th>\n",
       "      <th>nbrQuestMark</th>\n",
       "      <th>nbrMotMoyenne</th>\n",
       "      <th>nbrMotInsulteMoyenne</th>\n",
       "      <th>nbrMotAllongMoyenne</th>\n",
       "      <th>nbrMotMAJMoyenne</th>\n",
       "      <th>nbrExclMarkMoyenne</th>\n",
       "      <th>nbrQuestMarkMoyenne</th>\n",
       "      <th>thread_count</th>\n",
       "      <th>comment_count</th>\n",
       "      <th>message_count</th>\n",
       "      <th>discussion_count</th>\n",
       "      <th>distinct_authors_count</th>\n",
       "      <th>authors_3channels_count</th>\n",
       "      <th>liked_authors_count</th>\n",
       "      <th>channel_name</th>\n",
       "      <th>subscriberCount</th>\n",
       "      <th>viewCount</th>\n",
       "      <th>categorie_new</th>\n",
       "      <th>categ_inst</th>\n",
       "      <th>cluster</th>\n",
       "    </tr>\n",
       "  </thead>\n",
       "  <tbody>\n",
       "    <tr>\n",
       "      <th>0</th>\n",
       "      <td>3813</td>\n",
       "      <td>18</td>\n",
       "      <td>4</td>\n",
       "      <td>145</td>\n",
       "      <td>79</td>\n",
       "      <td>60</td>\n",
       "      <td>30.261900</td>\n",
       "      <td>0.142857</td>\n",
       "      <td>0.031746</td>\n",
       "      <td>1.150794</td>\n",
       "      <td>0.626984</td>\n",
       "      <td>0.476190</td>\n",
       "      <td>45</td>\n",
       "      <td>81</td>\n",
       "      <td>126</td>\n",
       "      <td>28</td>\n",
       "      <td>58</td>\n",
       "      <td>47</td>\n",
       "      <td>23</td>\n",
       "      <td>LeHuffPost</td>\n",
       "      <td>339922</td>\n",
       "      <td>225393312</td>\n",
       "      <td>Core</td>\n",
       "      <td>Pure Players</td>\n",
       "      <td>2</td>\n",
       "    </tr>\n",
       "    <tr>\n",
       "      <th>1</th>\n",
       "      <td>28</td>\n",
       "      <td>2</td>\n",
       "      <td>0</td>\n",
       "      <td>1</td>\n",
       "      <td>0</td>\n",
       "      <td>0</td>\n",
       "      <td>9.333333</td>\n",
       "      <td>0.666667</td>\n",
       "      <td>0.000000</td>\n",
       "      <td>0.333333</td>\n",
       "      <td>0.000000</td>\n",
       "      <td>0.000000</td>\n",
       "      <td>3</td>\n",
       "      <td>0</td>\n",
       "      <td>3</td>\n",
       "      <td>0</td>\n",
       "      <td>3</td>\n",
       "      <td>1</td>\n",
       "      <td>0</td>\n",
       "      <td>CNEWS</td>\n",
       "      <td>189971</td>\n",
       "      <td>132125693</td>\n",
       "      <td>Core</td>\n",
       "      <td>TV</td>\n",
       "      <td>0</td>\n",
       "    </tr>\n",
       "    <tr>\n",
       "      <th>2</th>\n",
       "      <td>3804</td>\n",
       "      <td>68</td>\n",
       "      <td>9</td>\n",
       "      <td>56</td>\n",
       "      <td>75</td>\n",
       "      <td>54</td>\n",
       "      <td>27.565220</td>\n",
       "      <td>0.492754</td>\n",
       "      <td>0.065217</td>\n",
       "      <td>0.405797</td>\n",
       "      <td>0.543478</td>\n",
       "      <td>0.391304</td>\n",
       "      <td>52</td>\n",
       "      <td>86</td>\n",
       "      <td>138</td>\n",
       "      <td>22</td>\n",
       "      <td>83</td>\n",
       "      <td>49</td>\n",
       "      <td>36</td>\n",
       "      <td>LeHuffPost</td>\n",
       "      <td>339922</td>\n",
       "      <td>225393312</td>\n",
       "      <td>Core</td>\n",
       "      <td>Pure Players</td>\n",
       "      <td>2</td>\n",
       "    </tr>\n",
       "    <tr>\n",
       "      <th>3</th>\n",
       "      <td>4</td>\n",
       "      <td>0</td>\n",
       "      <td>1</td>\n",
       "      <td>2</td>\n",
       "      <td>0</td>\n",
       "      <td>0</td>\n",
       "      <td>2.000000</td>\n",
       "      <td>0.000000</td>\n",
       "      <td>0.500000</td>\n",
       "      <td>1.000000</td>\n",
       "      <td>0.000000</td>\n",
       "      <td>0.000000</td>\n",
       "      <td>2</td>\n",
       "      <td>0</td>\n",
       "      <td>2</td>\n",
       "      <td>0</td>\n",
       "      <td>2</td>\n",
       "      <td>0</td>\n",
       "      <td>0</td>\n",
       "      <td>Telegramme</td>\n",
       "      <td>2862</td>\n",
       "      <td>2481100</td>\n",
       "      <td>Niche</td>\n",
       "      <td>Presse_regionale</td>\n",
       "      <td>1</td>\n",
       "    </tr>\n",
       "    <tr>\n",
       "      <th>4</th>\n",
       "      <td>737</td>\n",
       "      <td>3</td>\n",
       "      <td>1</td>\n",
       "      <td>18</td>\n",
       "      <td>5</td>\n",
       "      <td>6</td>\n",
       "      <td>32.043478</td>\n",
       "      <td>0.130435</td>\n",
       "      <td>0.043478</td>\n",
       "      <td>0.782609</td>\n",
       "      <td>0.217391</td>\n",
       "      <td>0.260870</td>\n",
       "      <td>17</td>\n",
       "      <td>6</td>\n",
       "      <td>23</td>\n",
       "      <td>4</td>\n",
       "      <td>18</td>\n",
       "      <td>7</td>\n",
       "      <td>7</td>\n",
       "      <td>Les Echos</td>\n",
       "      <td>30010</td>\n",
       "      <td>6710737</td>\n",
       "      <td>Core</td>\n",
       "      <td>Presse nationale</td>\n",
       "      <td>1</td>\n",
       "    </tr>\n",
       "  </tbody>\n",
       "</table>\n",
       "</div>"
      ],
      "text/plain": [
       "   nbrMot  nbrMotInsulte  nbrMotAllong  nbrMotMAJ  nbrExclMark  nbrQuestMark  \\\n",
       "0    3813             18             4        145           79            60   \n",
       "1      28              2             0          1            0             0   \n",
       "2    3804             68             9         56           75            54   \n",
       "3       4              0             1          2            0             0   \n",
       "4     737              3             1         18            5             6   \n",
       "\n",
       "   nbrMotMoyenne  nbrMotInsulteMoyenne  nbrMotAllongMoyenne  nbrMotMAJMoyenne  \\\n",
       "0      30.261900              0.142857             0.031746          1.150794   \n",
       "1       9.333333              0.666667             0.000000          0.333333   \n",
       "2      27.565220              0.492754             0.065217          0.405797   \n",
       "3       2.000000              0.000000             0.500000          1.000000   \n",
       "4      32.043478              0.130435             0.043478          0.782609   \n",
       "\n",
       "   nbrExclMarkMoyenne  nbrQuestMarkMoyenne  thread_count  comment_count  \\\n",
       "0            0.626984             0.476190            45             81   \n",
       "1            0.000000             0.000000             3              0   \n",
       "2            0.543478             0.391304            52             86   \n",
       "3            0.000000             0.000000             2              0   \n",
       "4            0.217391             0.260870            17              6   \n",
       "\n",
       "   message_count  discussion_count  distinct_authors_count  \\\n",
       "0            126                28                      58   \n",
       "1              3                 0                       3   \n",
       "2            138                22                      83   \n",
       "3              2                 0                       2   \n",
       "4             23                 4                      18   \n",
       "\n",
       "   authors_3channels_count  liked_authors_count channel_name  subscriberCount  \\\n",
       "0                       47                   23   LeHuffPost           339922   \n",
       "1                        1                    0        CNEWS           189971   \n",
       "2                       49                   36   LeHuffPost           339922   \n",
       "3                        0                    0   Telegramme             2862   \n",
       "4                        7                    7    Les Echos            30010   \n",
       "\n",
       "   viewCount categorie_new        categ_inst  cluster  \n",
       "0  225393312          Core      Pure Players        2  \n",
       "1  132125693          Core                TV        0  \n",
       "2  225393312          Core      Pure Players        2  \n",
       "3    2481100         Niche  Presse_regionale        1  \n",
       "4    6710737          Core  Presse nationale        1  "
      ]
     },
     "execution_count": 162,
     "metadata": {},
     "output_type": "execute_result"
    }
   ],
   "source": [
    "#On ajoute dans la Dataframe les classes qu'a définit le modèle pour chaque lignes\n",
    "\n",
    "clusters=pd.concat([df, pd.DataFrame({'cluster':labels})], axis=1)\n",
    "clusters.head()"
   ]
  },
  {
   "cell_type": "code",
   "execution_count": 163,
   "metadata": {},
   "outputs": [
    {
     "data": {
      "text/plain": [
       "1    23070\n",
       "0    17712\n",
       "2     5320\n",
       "Name: cluster, dtype: int64"
      ]
     },
     "execution_count": 163,
     "metadata": {},
     "output_type": "execute_result"
    }
   ],
   "source": [
    "#Proportion des classes\n",
    "clusters['cluster'].value_counts()"
   ]
  },
  {
   "cell_type": "code",
   "execution_count": 164,
   "metadata": {},
   "outputs": [
    {
     "name": "stderr",
     "output_type": "stream",
     "text": [
      "C:\\Users\\hervy\\anaconda3\\lib\\site-packages\\seaborn\\axisgrid.py:318: RuntimeWarning: More than 20 figures have been opened. Figures created through the pyplot interface (`matplotlib.pyplot.figure`) are retained until explicitly closed and may consume too much memory. (To control this warning, see the rcParam `figure.max_open_warning`).\n",
      "  fig, axes = plt.subplots(nrow, ncol, **kwargs)\n"
     ]
    },
    {
     "data": {
      "image/png": "[encoded data removed]",
      "text/plain": [
       "<Figure size 648x216 with 3 Axes>"
      ]
     },
     "metadata": {
      "needs_background": "light"
     },
     "output_type": "display_data"
    },
    {
     "data": {
      "image/png": "[encoded data removed]",
      "text/plain": [
       "<Figure size 648x216 with 3 Axes>"
      ]
     },
     "metadata": {
      "needs_background": "light"
     },
     "output_type": "display_data"
    },
    {
     "data": {
      "image/png": "[encoded data removed]",
      "text/plain": [
       "<Figure size 648x216 with 3 Axes>"
      ]
     },
     "metadata": {
      "needs_background": "light"
     },
     "output_type": "display_data"
    },
    {
     "data": {
      "image/png": "[encoded data removed]",
      "text/plain": [
       "<Figure size 648x216 with 3 Axes>"
      ]
     },
     "metadata": {
      "needs_background": "light"
     },
     "output_type": "display_data"
    },
    {
     "data": {
      "image/png": "[encoded data removed]",
      "text/plain": [
       "<Figure size 648x216 with 3 Axes>"
      ]
     },
     "metadata": {
      "needs_background": "light"
     },
     "output_type": "display_data"
    },
    {
     "data": {
      "image/png": "[encoded data removed]",
      "text/plain": [
       "<Figure size 648x216 with 3 Axes>"
      ]
     },
     "metadata": {
      "needs_background": "light"
     },
     "output_type": "display_data"
    },
    {
     "data": {
      "image/png": "[encoded data removed]",
      "text/plain": [
       "<Figure size 648x216 with 3 Axes>"
      ]
     },
     "metadata": {
      "needs_background": "light"
     },
     "output_type": "display_data"
    },
    {
     "data": {
      "image/png": "[encoded data removed]",
      "text/plain": [
       "<Figure size 648x216 with 3 Axes>"
      ]
     },
     "metadata": {
      "needs_background": "light"
     },
     "output_type": "display_data"
    },
    {
     "data": {
      "image/png": "[encoded data removed]",
      "text/plain": [
       "<Figure size 648x216 with 3 Axes>"
      ]
     },
     "metadata": {
      "needs_background": "light"
     },
     "output_type": "display_data"
    },
    {
     "data": {
      "image/png": "[encoded data removed]",
      "text/plain": [
       "<Figure size 648x216 with 3 Axes>"
      ]
     },
     "metadata": {
      "needs_background": "light"
     },
     "output_type": "display_data"
    },
    {
     "data": {
      "image/png": "[encoded data removed]",
      "text/plain": [
       "<Figure size 648x216 with 3 Axes>"
      ]
     },
     "metadata": {
      "needs_background": "light"
     },
     "output_type": "display_data"
    },
    {
     "data": {
      "image/png": "[encoded data removed]",
      "text/plain": [
       "<Figure size 648x216 with 3 Axes>"
      ]
     },
     "metadata": {
      "needs_background": "light"
     },
     "output_type": "display_data"
    },
    {
     "data": {
      "image/png": "[encoded data removed]",
      "text/plain": [
       "<Figure size 648x216 with 3 Axes>"
      ]
     },
     "metadata": {
      "needs_background": "light"
     },
     "output_type": "display_data"
    },
    {
     "data": {
      "image/png": "[encoded data removed]",
      "text/plain": [
       "<Figure size 648x216 with 3 Axes>"
      ]
     },
     "metadata": {
      "needs_background": "light"
     },
     "output_type": "display_data"
    },
    {
     "data": {
      "image/png": "[encoded data removed]",
      "text/plain": [
       "<Figure size 648x216 with 3 Axes>"
      ]
     },
     "metadata": {
      "needs_background": "light"
     },
     "output_type": "display_data"
    },
    {
     "data": {
      "image/png": "[encoded data removed]",
      "text/plain": [
       "<Figure size 648x216 with 3 Axes>"
      ]
     },
     "metadata": {
      "needs_background": "light"
     },
     "output_type": "display_data"
    },
    {
     "data": {
      "image/png": "[encoded data removed]",
      "text/plain": [
       "<Figure size 648x216 with 3 Axes>"
      ]
     },
     "metadata": {
      "needs_background": "light"
     },
     "output_type": "display_data"
    },
    {
     "data": {
      "image/png": "[encoded data removed]",
      "text/plain": [
       "<Figure size 648x216 with 3 Axes>"
      ]
     },
     "metadata": {
      "needs_background": "light"
     },
     "output_type": "display_data"
    },
    {
     "data": {
      "image/png": "[encoded data removed]",
      "text/plain": [
       "<Figure size 648x216 with 3 Axes>"
      ]
     },
     "metadata": {
      "needs_background": "light"
     },
     "output_type": "display_data"
    },
    {
     "data": {
      "image/png": "[encoded data removed]",
      "text/plain": [
       "<Figure size 648x216 with 3 Axes>"
      ]
     },
     "metadata": {
      "needs_background": "light"
     },
     "output_type": "display_data"
    },
    {
     "data": {
      "image/png": "[encoded data removed]",
      "text/plain": [
       "<Figure size 648x216 with 3 Axes>"
      ]
     },
     "metadata": {
      "needs_background": "light"
     },
     "output_type": "display_data"
    },
    {
     "data": {
      "image/png": "[encoded data removed]",
      "text/plain": [
       "<Figure size 648x216 with 3 Axes>"
      ]
     },
     "metadata": {
      "needs_background": "light"
     },
     "output_type": "display_data"
    },
    {
     "data": {
      "image/png": "[encoded data removed]",
      "text/plain": [
       "<Figure size 648x216 with 3 Axes>"
      ]
     },
     "metadata": {
      "needs_background": "light"
     },
     "output_type": "display_data"
    },
    {
     "data": {
      "image/png": "[encoded data removed]",
      "text/plain": [
       "<Figure size 648x216 with 3 Axes>"
      ]
     },
     "metadata": {
      "needs_background": "light"
     },
     "output_type": "display_data"
    },
    {
     "data": {
      "image/png": "[encoded data removed]",
      "text/plain": [
       "<Figure size 648x216 with 3 Axes>"
      ]
     },
     "metadata": {
      "needs_background": "light"
     },
     "output_type": "display_data"
    }
   ],
   "source": [
    "#Interprétation des classes\n",
    "for c in clusters:\n",
    "    grid= sns.FacetGrid(clusters, col='cluster')\n",
    "    grid.map(plt.hist, c)"
   ]
  },
  {
   "cell_type": "markdown",
   "metadata": {},
   "source": [
    "**Grâce à ce graphique on peut essayer de comprendre l'interprétation des classes qu'a définit le modèle avec la méthode des Kmeans.**"
   ]
  },
  {
   "cell_type": "markdown",
   "metadata": {},
   "source": [
    "**Cependant on remarque très rapidement que beaucoup de varibles ont les mêmes graphiques et qu'il est donc impossible de les interpréter et donc d'en tirer des conclusions sur les classes qu'a définit notre modèle.**"
   ]
  },
  {
   "cell_type": "markdown",
   "metadata": {},
   "source": [
    "**Il faut donc penser à une autre stratégie pour définir le nombre de classes de toxicité.**"
   ]
  },
  {
   "cell_type": "markdown",
   "metadata": {},
   "source": [
    "## Encodage du Dataset"
   ]
  },
  {
   "cell_type": "raw",
   "metadata": {},
   "source": [
    "Nous recrééons le dataset utilisé précedemment afin de déterminer à nouveau la variable 'toxic'"
   ]
  },
  {
   "cell_type": "code",
   "execution_count": 165,
   "metadata": {},
   "outputs": [],
   "source": [
    "from sklearn.preprocessing import OneHotEncoder\n",
    "categorical_encoder = OneHotEncoder(handle_unknown='ignore', sparse=False)"
   ]
  },
  {
   "cell_type": "code",
   "execution_count": 166,
   "metadata": {},
   "outputs": [
    {
     "data": {
      "text/plain": [
       "nbrMotInsulteMoyenne              float64\n",
       "nbrMotAllongMoyenne               float64\n",
       "nbrMotMAJMoyenne                  float64\n",
       "nbrExclMarkMoyenne                float64\n",
       "nbrQuestMarkMoyenne               float64\n",
       "channel_name                       object\n",
       "categorie_new                      object\n",
       "categ_inst                         object\n",
       "nbrMotInsulte/nbrMot              float64\n",
       "nbrMotAllong/nbrMot               float64\n",
       "nbrMotMAJ/nbrMot                  float64\n",
       "nbrExclMark/nbrMot                float64\n",
       "nbrQuestMark/nbrMot               float64\n",
       "comment_count/message_count       float64\n",
       "discussion_count/message_count    float64\n",
       "viewCount/subscriberCount         float64\n",
       "dtype: object"
      ]
     },
     "execution_count": 166,
     "metadata": {},
     "output_type": "execute_result"
    }
   ],
   "source": [
    "#on crée une nouvelle dataframe (dftox) plus adaptée à \n",
    "#évaluer la toxicité d'une vidéo youtube\n",
    "\n",
    "dftox= df.copy()\n",
    "dftox['nbrMot'].replace(0,1,inplace=True)\n",
    "dftox['nbrMotInsulte/nbrMot']=dftox['nbrMotInsulte']/dftox['nbrMot']\n",
    "dftox['nbrMotAllong/nbrMot']=dftox['nbrMotAllong']/dftox['nbrMot']\n",
    "dftox['nbrMotMAJ/nbrMot']=dftox['nbrMotMAJ']/dftox['nbrMot']\n",
    "dftox['nbrExclMark/nbrMot']=dftox['nbrExclMark']/dftox['nbrMot']\n",
    "dftox['nbrQuestMark/nbrMot']=dftox['nbrQuestMark']/dftox['nbrMot']\n",
    "dftox=dftox.drop(['nbrMotMoyenne','nbrMot','nbrMotInsulte','nbrMotAllong','nbrMotMAJ','nbrExclMark','nbrQuestMark'] ,axis=1)\n",
    "\n",
    "dftox['message_count'].replace(0,1,inplace=True)\n",
    "dftox['comment_count/message_count']=dftox['comment_count']/dftox['message_count']\n",
    "dftox['discussion_count/message_count']=dftox['discussion_count']/dftox['message_count']\n",
    "dftox=dftox.drop(['message_count','comment_count','discussion_count','thread_count'],axis=1)\n",
    "\n",
    "\n",
    "dftox=dftox.drop(['distinct_authors_count','authors_3channels_count','liked_authors_count'],axis=1)\n",
    "\n",
    "dftox['subscriberCount'].replace(0,1,inplace=True)\n",
    "dftox['viewCount/subscriberCount']=dftox['viewCount']/dftox['subscriberCount']\n",
    "dftox=dftox.drop(['subscriberCount','viewCount'],axis=1)\n",
    "\n",
    "\n",
    "\n",
    "\n",
    "dftox.dtypes"
   ]
  },
  {
   "cell_type": "code",
   "execution_count": 167,
   "metadata": {},
   "outputs": [],
   "source": [
    "\n",
    "#Nous créeons une fonction qui attribura à la variable la valeur 1, 2 ou 3 en fonction de sa valeur et donc de son appartenance aux tranches 1, 2 ou 3\n",
    "\n",
    "def f(x):\n",
    "    if x<=5.7107*10**5:\n",
    "        return(1)\n",
    "    elif x<=1.1421*10**6:\n",
    "        return(2)\n",
    "    else: return(3)\n",
    "\n",
    "#On applique cette fonction à l'ensemble des valeurs de la variable 'viewCount/subscriberCount'\n",
    "dftox['viewCount/subscriberCount']=dftox['viewCount/subscriberCount'].apply(lambda x: f(x))"
   ]
  },
  {
   "cell_type": "code",
   "execution_count": 168,
   "metadata": {},
   "outputs": [],
   "source": [
    "def f(x):\n",
    "    if x<=54:\n",
    "        return(1)\n",
    "    elif x<=108:\n",
    "        return(2)\n",
    "    else: return(3)\n",
    "dftox['nbrMotMAJMoyenne']=dftox['nbrMotMAJMoyenne'].apply(lambda x: f(x))"
   ]
  },
  {
   "cell_type": "code",
   "execution_count": 169,
   "metadata": {},
   "outputs": [],
   "source": [
    "def f(x):\n",
    "    if x<=9.33:\n",
    "        return(1)\n",
    "    elif x<=18.66:\n",
    "        return(2)\n",
    "    else: return(3)\n",
    "dftox['nbrMotAllongMoyenne']=dftox['nbrMotAllongMoyenne'].apply(lambda x: f(x))"
   ]
  },
  {
   "cell_type": "code",
   "execution_count": 170,
   "metadata": {},
   "outputs": [],
   "source": [
    "def f(x):\n",
    "    if x<=4.66:\n",
    "        return(1)\n",
    "    elif x<=9.33:\n",
    "        return(2)\n",
    "    else: return(3)\n",
    "dftox['nbrMotInsulteMoyenne']=dftox['nbrMotInsulteMoyenne'].apply(lambda x: f(x))"
   ]
  },
  {
   "cell_type": "code",
   "execution_count": 171,
   "metadata": {},
   "outputs": [],
   "source": [
    "def f(x):\n",
    "    if x<=34.66:\n",
    "        return(1)\n",
    "    elif x<=69.33:\n",
    "        return(2)\n",
    "    else: return(3)\n",
    "dftox['nbrExclMarkMoyenne']=dftox['nbrExclMarkMoyenne'].apply(lambda x: f(x))"
   ]
  },
  {
   "cell_type": "code",
   "execution_count": 172,
   "metadata": {},
   "outputs": [],
   "source": [
    "def f(x):\n",
    "    if x<=40.25:\n",
    "        return(1)\n",
    "    elif x<=80.5:\n",
    "        return(2)\n",
    "    else: return(3)\n",
    "dftox['nbrQuestMarkMoyenne']=dftox['nbrQuestMarkMoyenne'].apply(lambda x: f(x))"
   ]
  },
  {
   "cell_type": "code",
   "execution_count": 173,
   "metadata": {},
   "outputs": [],
   "source": [
    "def f(x):\n",
    "    if x<=0.4:\n",
    "        return(1)\n",
    "    elif x<=0.8:\n",
    "        return(2)\n",
    "    else: return(3)\n",
    "dftox['nbrMotInsulte/nbrMot']=dftox['nbrMotInsulte/nbrMot'].apply(lambda x: f(x))"
   ]
  },
  {
   "cell_type": "code",
   "execution_count": 174,
   "metadata": {},
   "outputs": [],
   "source": [
    "def f(x):\n",
    "    if x<=0.33:\n",
    "        return(1)\n",
    "    elif x<=0.66:\n",
    "        return(2)\n",
    "    else: return(3)\n",
    "dftox['nbrMotAllong/nbrMot']=dftox['nbrMotAllong/nbrMot'].apply(lambda x: f(x))"
   ]
  },
  {
   "cell_type": "code",
   "execution_count": 175,
   "metadata": {},
   "outputs": [],
   "source": [
    "def f(x):\n",
    "    if x<=0.34:\n",
    "        return(1)\n",
    "    elif x<=0.68:\n",
    "        return(2)\n",
    "    else: return(3)\n",
    "dftox['nbrMotMAJ/nbrMot']=dftox['nbrMotMAJ/nbrMot'].apply(lambda x: f(x))"
   ]
  },
  {
   "cell_type": "code",
   "execution_count": 176,
   "metadata": {},
   "outputs": [],
   "source": [
    "def f(x):\n",
    "    if x<=7.5:\n",
    "        return(1)\n",
    "    elif x<=15:\n",
    "        return(2)\n",
    "    else: return(3)\n",
    "dftox['nbrExclMark/nbrMot']=dftox['nbrExclMark/nbrMot'].apply(lambda x: f(x))"
   ]
  },
  {
   "cell_type": "code",
   "execution_count": 177,
   "metadata": {},
   "outputs": [],
   "source": [
    "def f(x):\n",
    "    if x<=6.66:\n",
    "        return(1)\n",
    "    elif x<=13.33:\n",
    "        return(2)\n",
    "    else: return(3)\n",
    "dftox['nbrQuestMark/nbrMot']=dftox['nbrQuestMark/nbrMot'].apply(lambda x: f(x))"
   ]
  },
  {
   "cell_type": "code",
   "execution_count": 178,
   "metadata": {},
   "outputs": [],
   "source": [
    "def f(x):\n",
    "    if x<=0.32:\n",
    "        return(1)\n",
    "    elif x<=0.64:\n",
    "        return(2)\n",
    "    else: return(3)\n",
    "dftox['comment_count/message_count']=dftox['comment_count/message_count'].apply(lambda x: f(x))"
   ]
  },
  {
   "cell_type": "code",
   "execution_count": 179,
   "metadata": {},
   "outputs": [],
   "source": [
    "def f(x):\n",
    "    if x<=0.16:\n",
    "        return(1)\n",
    "    elif x<=0.34:\n",
    "        return(2)\n",
    "    else: return(3)\n",
    "dftox['discussion_count/message_count']=dftox['discussion_count/message_count'].apply(lambda x: f(x))"
   ]
  },
  {
   "cell_type": "markdown",
   "metadata": {},
   "source": [
    "## Création de la variable toxicité"
   ]
  },
  {
   "cell_type": "code",
   "execution_count": 180,
   "metadata": {},
   "outputs": [
    {
     "name": "stdout",
     "output_type": "stream",
     "text": [
      "count    46102.000000\n",
      "mean        40.789076\n",
      "std          3.812727\n",
      "min         38.000000\n",
      "25%         38.000000\n",
      "50%         38.000000\n",
      "75%         42.000000\n",
      "max         60.000000\n",
      "Name: score, dtype: float64\n"
     ]
    },
    {
     "data": {
      "image/png": "[encoded data removed]",
      "text/plain": [
       "<Figure size 432x288 with 1 Axes>"
      ]
     },
     "metadata": {
      "needs_background": "light"
     },
     "output_type": "display_data"
    }
   ],
   "source": [
    "dftox['score']=(dftox['nbrMotInsulte/nbrMot']+dftox['nbrMotInsulteMoyenne'])*5+(dftox['comment_count/message_count']+dftox['discussion_count/message_count']+dftox['nbrMotMAJ/nbrMot'])*4 + (dftox['viewCount/subscriberCount']+dftox['nbrMotMAJMoyenne'])*3 +(dftox['nbrMotAllongMoyenne']+ dftox['nbrExclMarkMoyenne'] + dftox['nbrMotAllong/nbrMot']+ dftox['nbrExclMark/nbrMot'])*2 + (dftox['nbrQuestMark/nbrMot']+dftox['nbrQuestMarkMoyenne'])\n",
    "dftox.boxplot(['score'])\n",
    "\n",
    "#print(dftox['score'].quantile([0.33,0.66]))\n",
    "print(dftox['score'].describe())"
   ]
  },
  {
   "cell_type": "code",
   "execution_count": 181,
   "metadata": {},
   "outputs": [
    {
     "data": {
      "text/plain": [
       "<matplotlib.axes._subplots.AxesSubplot at 0x2cbdc240580>"
      ]
     },
     "execution_count": 181,
     "metadata": {},
     "output_type": "execute_result"
    },
    {
     "data": {
      "image/png": "[encoded data removed]",
      "text/plain": [
       "<Figure size 432x288 with 1 Axes>"
      ]
     },
     "metadata": {
      "needs_background": "light"
     },
     "output_type": "display_data"
    }
   ],
   "source": [
    "#Distribution de la variable score\n",
    "sns.distplot(dftox['score'])"
   ]
  },
  {
   "cell_type": "markdown",
   "metadata": {},
   "source": [
    "**En regardant la distribution du score de toxicité dans notre dataset, on obtient 4 pics, il est donc naturel de définir 4 classes de toxicité : 'peu toxique', 'assez toxique', 'toxique', 'très toxique'.**"
   ]
  },
  {
   "cell_type": "code",
   "execution_count": 182,
   "metadata": {},
   "outputs": [],
   "source": [
    "#Création des classes de la toxicité\n",
    "\n",
    "def f(x):\n",
    "    if x<=40:\n",
    "        return('peu toxique')\n",
    "    elif x<=44:\n",
    "        return('assez toxique')\n",
    "    elif x<=48:\n",
    "        return('toxique')\n",
    "    else: return('très toxique')\n",
    "\n",
    "dftox['toxic'] = dftox['score'].apply(lambda x: f(x))"
   ]
  },
  {
   "cell_type": "code",
   "execution_count": 183,
   "metadata": {},
   "outputs": [
    {
     "data": {
      "text/plain": [
       "peu toxique      27507\n",
       "toxique           8470\n",
       "assez toxique     7674\n",
       "très toxique      2451\n",
       "Name: toxic, dtype: int64"
      ]
     },
     "execution_count": 183,
     "metadata": {},
     "output_type": "execute_result"
    }
   ],
   "source": [
    "dftox['toxic'].value_counts()"
   ]
  },
  {
   "cell_type": "markdown",
   "metadata": {},
   "source": [
    "# On ajoute la colonne toxicité à notre dataframe nettoyé initialement (cad Q1)"
   ]
  },
  {
   "cell_type": "code",
   "execution_count": 184,
   "metadata": {},
   "outputs": [],
   "source": [
    "df['toxicité'] = dftox['toxic']"
   ]
  },
  {
   "cell_type": "code",
   "execution_count": 185,
   "metadata": {},
   "outputs": [
    {
     "data": {
      "text/plain": [
       "Index(['nbrMot', 'nbrMotInsulte', 'nbrMotAllong', 'nbrMotMAJ', 'nbrExclMark',\n",
       "       'nbrQuestMark', 'nbrMotMoyenne', 'nbrMotInsulteMoyenne',\n",
       "       'nbrMotAllongMoyenne', 'nbrMotMAJMoyenne', 'nbrExclMarkMoyenne',\n",
       "       'nbrQuestMarkMoyenne', 'thread_count', 'comment_count', 'message_count',\n",
       "       'discussion_count', 'distinct_authors_count', 'authors_3channels_count',\n",
       "       'liked_authors_count', 'channel_name', 'subscriberCount', 'viewCount',\n",
       "       'categorie_new', 'categ_inst', 'toxicité'],\n",
       "      dtype='object')"
      ]
     },
     "execution_count": 185,
     "metadata": {},
     "output_type": "execute_result"
    }
   ],
   "source": [
    "#On retrouve bien le dataset initial avec la colonne toxicité\n",
    "df.columns"
   ]
  },
  {
   "cell_type": "code",
   "execution_count": 186,
   "metadata": {},
   "outputs": [],
   "source": [
    "#On change les 4 tranches de la variable toxicité en valeur quantifiée\n",
    "df['toxicité'].replace(['peu toxique', 'assez toxique', 'toxique', 'très toxique'],[1,2,3,4], inplace=True)"
   ]
  },
  {
   "cell_type": "code",
   "execution_count": 188,
   "metadata": {},
   "outputs": [
    {
     "data": {
      "text/html": [
       "<div>\n",
       "<style scoped>\n",
       "    .dataframe tbody tr th:only-of-type {\n",
       "        vertical-align: middle;\n",
       "    }\n",
       "\n",
       "    .dataframe tbody tr th {\n",
       "        vertical-align: top;\n",
       "    }\n",
       "\n",
       "    .dataframe thead th {\n",
       "        text-align: right;\n",
       "    }\n",
       "</style>\n",
       "<table border=\"1\" class=\"dataframe\">\n",
       "  <thead>\n",
       "    <tr style=\"text-align: right;\">\n",
       "      <th></th>\n",
       "      <th>nbrMot</th>\n",
       "      <th>nbrMotInsulte</th>\n",
       "      <th>nbrMotAllong</th>\n",
       "      <th>nbrMotMAJ</th>\n",
       "      <th>nbrExclMark</th>\n",
       "      <th>nbrQuestMark</th>\n",
       "      <th>nbrMotMoyenne</th>\n",
       "      <th>nbrMotInsulteMoyenne</th>\n",
       "      <th>nbrMotAllongMoyenne</th>\n",
       "      <th>nbrMotMAJMoyenne</th>\n",
       "      <th>nbrExclMarkMoyenne</th>\n",
       "      <th>nbrQuestMarkMoyenne</th>\n",
       "      <th>thread_count</th>\n",
       "      <th>comment_count</th>\n",
       "      <th>message_count</th>\n",
       "      <th>discussion_count</th>\n",
       "      <th>distinct_authors_count</th>\n",
       "      <th>authors_3channels_count</th>\n",
       "      <th>liked_authors_count</th>\n",
       "      <th>channel_name</th>\n",
       "      <th>subscriberCount</th>\n",
       "      <th>viewCount</th>\n",
       "      <th>categorie_new</th>\n",
       "      <th>categ_inst</th>\n",
       "      <th>toxicité</th>\n",
       "    </tr>\n",
       "  </thead>\n",
       "  <tbody>\n",
       "    <tr>\n",
       "      <th>0</th>\n",
       "      <td>3813</td>\n",
       "      <td>18</td>\n",
       "      <td>4</td>\n",
       "      <td>145</td>\n",
       "      <td>79</td>\n",
       "      <td>60</td>\n",
       "      <td>30.261900</td>\n",
       "      <td>0.142857</td>\n",
       "      <td>0.031746</td>\n",
       "      <td>1.150794</td>\n",
       "      <td>0.626984</td>\n",
       "      <td>0.476190</td>\n",
       "      <td>45</td>\n",
       "      <td>81</td>\n",
       "      <td>126</td>\n",
       "      <td>28</td>\n",
       "      <td>58</td>\n",
       "      <td>47</td>\n",
       "      <td>23</td>\n",
       "      <td>LeHuffPost</td>\n",
       "      <td>339922</td>\n",
       "      <td>225393312</td>\n",
       "      <td>Core</td>\n",
       "      <td>Pure Players</td>\n",
       "      <td>4</td>\n",
       "    </tr>\n",
       "    <tr>\n",
       "      <th>1</th>\n",
       "      <td>28</td>\n",
       "      <td>2</td>\n",
       "      <td>0</td>\n",
       "      <td>1</td>\n",
       "      <td>0</td>\n",
       "      <td>0</td>\n",
       "      <td>9.333333</td>\n",
       "      <td>0.666667</td>\n",
       "      <td>0.000000</td>\n",
       "      <td>0.333333</td>\n",
       "      <td>0.000000</td>\n",
       "      <td>0.000000</td>\n",
       "      <td>3</td>\n",
       "      <td>0</td>\n",
       "      <td>3</td>\n",
       "      <td>0</td>\n",
       "      <td>3</td>\n",
       "      <td>1</td>\n",
       "      <td>0</td>\n",
       "      <td>CNEWS</td>\n",
       "      <td>189971</td>\n",
       "      <td>132125693</td>\n",
       "      <td>Core</td>\n",
       "      <td>TV</td>\n",
       "      <td>1</td>\n",
       "    </tr>\n",
       "    <tr>\n",
       "      <th>2</th>\n",
       "      <td>3804</td>\n",
       "      <td>68</td>\n",
       "      <td>9</td>\n",
       "      <td>56</td>\n",
       "      <td>75</td>\n",
       "      <td>54</td>\n",
       "      <td>27.565220</td>\n",
       "      <td>0.492754</td>\n",
       "      <td>0.065217</td>\n",
       "      <td>0.405797</td>\n",
       "      <td>0.543478</td>\n",
       "      <td>0.391304</td>\n",
       "      <td>52</td>\n",
       "      <td>86</td>\n",
       "      <td>138</td>\n",
       "      <td>22</td>\n",
       "      <td>83</td>\n",
       "      <td>49</td>\n",
       "      <td>36</td>\n",
       "      <td>LeHuffPost</td>\n",
       "      <td>339922</td>\n",
       "      <td>225393312</td>\n",
       "      <td>Core</td>\n",
       "      <td>Pure Players</td>\n",
       "      <td>2</td>\n",
       "    </tr>\n",
       "    <tr>\n",
       "      <th>3</th>\n",
       "      <td>4</td>\n",
       "      <td>0</td>\n",
       "      <td>1</td>\n",
       "      <td>2</td>\n",
       "      <td>0</td>\n",
       "      <td>0</td>\n",
       "      <td>2.000000</td>\n",
       "      <td>0.000000</td>\n",
       "      <td>0.500000</td>\n",
       "      <td>1.000000</td>\n",
       "      <td>0.000000</td>\n",
       "      <td>0.000000</td>\n",
       "      <td>2</td>\n",
       "      <td>0</td>\n",
       "      <td>2</td>\n",
       "      <td>0</td>\n",
       "      <td>2</td>\n",
       "      <td>0</td>\n",
       "      <td>0</td>\n",
       "      <td>Telegramme</td>\n",
       "      <td>2862</td>\n",
       "      <td>2481100</td>\n",
       "      <td>Niche</td>\n",
       "      <td>Presse_regionale</td>\n",
       "      <td>2</td>\n",
       "    </tr>\n",
       "    <tr>\n",
       "      <th>4</th>\n",
       "      <td>737</td>\n",
       "      <td>3</td>\n",
       "      <td>1</td>\n",
       "      <td>18</td>\n",
       "      <td>5</td>\n",
       "      <td>6</td>\n",
       "      <td>32.043478</td>\n",
       "      <td>0.130435</td>\n",
       "      <td>0.043478</td>\n",
       "      <td>0.782609</td>\n",
       "      <td>0.217391</td>\n",
       "      <td>0.260870</td>\n",
       "      <td>17</td>\n",
       "      <td>6</td>\n",
       "      <td>23</td>\n",
       "      <td>4</td>\n",
       "      <td>18</td>\n",
       "      <td>7</td>\n",
       "      <td>7</td>\n",
       "      <td>Les Echos</td>\n",
       "      <td>30010</td>\n",
       "      <td>6710737</td>\n",
       "      <td>Core</td>\n",
       "      <td>Presse nationale</td>\n",
       "      <td>2</td>\n",
       "    </tr>\n",
       "  </tbody>\n",
       "</table>\n",
       "</div>"
      ],
      "text/plain": [
       "   nbrMot  nbrMotInsulte  nbrMotAllong  nbrMotMAJ  nbrExclMark  nbrQuestMark  \\\n",
       "0    3813             18             4        145           79            60   \n",
       "1      28              2             0          1            0             0   \n",
       "2    3804             68             9         56           75            54   \n",
       "3       4              0             1          2            0             0   \n",
       "4     737              3             1         18            5             6   \n",
       "\n",
       "   nbrMotMoyenne  nbrMotInsulteMoyenne  nbrMotAllongMoyenne  nbrMotMAJMoyenne  \\\n",
       "0      30.261900              0.142857             0.031746          1.150794   \n",
       "1       9.333333              0.666667             0.000000          0.333333   \n",
       "2      27.565220              0.492754             0.065217          0.405797   \n",
       "3       2.000000              0.000000             0.500000          1.000000   \n",
       "4      32.043478              0.130435             0.043478          0.782609   \n",
       "\n",
       "   nbrExclMarkMoyenne  nbrQuestMarkMoyenne  thread_count  comment_count  \\\n",
       "0            0.626984             0.476190            45             81   \n",
       "1            0.000000             0.000000             3              0   \n",
       "2            0.543478             0.391304            52             86   \n",
       "3            0.000000             0.000000             2              0   \n",
       "4            0.217391             0.260870            17              6   \n",
       "\n",
       "   message_count  discussion_count  distinct_authors_count  \\\n",
       "0            126                28                      58   \n",
       "1              3                 0                       3   \n",
       "2            138                22                      83   \n",
       "3              2                 0                       2   \n",
       "4             23                 4                      18   \n",
       "\n",
       "   authors_3channels_count  liked_authors_count channel_name  subscriberCount  \\\n",
       "0                       47                   23   LeHuffPost           339922   \n",
       "1                        1                    0        CNEWS           189971   \n",
       "2                       49                   36   LeHuffPost           339922   \n",
       "3                        0                    0   Telegramme             2862   \n",
       "4                        7                    7    Les Echos            30010   \n",
       "\n",
       "   viewCount categorie_new        categ_inst  toxicité  \n",
       "0  225393312          Core      Pure Players         4  \n",
       "1  132125693          Core                TV         1  \n",
       "2  225393312          Core      Pure Players         2  \n",
       "3    2481100         Niche  Presse_regionale         2  \n",
       "4    6710737          Core  Presse nationale         2  "
      ]
     },
     "execution_count": 188,
     "metadata": {},
     "output_type": "execute_result"
    }
   ],
   "source": [
    "df.head()"
   ]
  },
  {
   "cell_type": "markdown",
   "metadata": {},
   "source": [
    "**On encode les variables \"categ_int\" et \"categorie_new\"**"
   ]
  },
  {
   "cell_type": "code",
   "execution_count": 145,
   "metadata": {},
   "outputs": [],
   "source": [
    "from sklearn.preprocessing import OneHotEncoder\n",
    "categorical_encoder = OneHotEncoder(handle_unknown='ignore', sparse=False)"
   ]
  },
  {
   "cell_type": "code",
   "execution_count": 146,
   "metadata": {},
   "outputs": [],
   "source": [
    "categorical_columns = pd.DataFrame(categorical_encoder.fit_transform(df[['categ_inst','categorie_new']]))"
   ]
  },
  {
   "cell_type": "code",
   "execution_count": 147,
   "metadata": {},
   "outputs": [],
   "source": [
    "categorical_columns.index = df.index"
   ]
  },
  {
   "cell_type": "code",
   "execution_count": 148,
   "metadata": {},
   "outputs": [
    {
     "data": {
      "text/plain": [
       "[array(['Alternatif', 'Presse magazine', 'Presse nationale',\n",
       "        'Presse_regionale', 'Pure Players', 'TV'], dtype=object),\n",
       " array(['Core', 'Niche', 'Partisan'], dtype=object)]"
      ]
     },
     "execution_count": 148,
     "metadata": {},
     "output_type": "execute_result"
    }
   ],
   "source": [
    "categorical_encoder.categories_"
   ]
  },
  {
   "cell_type": "code",
   "execution_count": 149,
   "metadata": {},
   "outputs": [],
   "source": [
    "categorical_columns.columns =  ['Alternatif', 'Presse magazine', 'Presse nationale',\n",
    "        'Presse_regionale', 'Pure Players', 'TV', 'Core', 'Niche', 'Partisan']"
   ]
  },
  {
   "cell_type": "code",
   "execution_count": 150,
   "metadata": {},
   "outputs": [
    {
     "data": {
      "text/html": [
       "<div>\n",
       "<style scoped>\n",
       "    .dataframe tbody tr th:only-of-type {\n",
       "        vertical-align: middle;\n",
       "    }\n",
       "\n",
       "    .dataframe tbody tr th {\n",
       "        vertical-align: top;\n",
       "    }\n",
       "\n",
       "    .dataframe thead th {\n",
       "        text-align: right;\n",
       "    }\n",
       "</style>\n",
       "<table border=\"1\" class=\"dataframe\">\n",
       "  <thead>\n",
       "    <tr style=\"text-align: right;\">\n",
       "      <th></th>\n",
       "      <th>Alternatif</th>\n",
       "      <th>Presse magazine</th>\n",
       "      <th>Presse nationale</th>\n",
       "      <th>Presse_regionale</th>\n",
       "      <th>Pure Players</th>\n",
       "      <th>TV</th>\n",
       "      <th>Core</th>\n",
       "      <th>Niche</th>\n",
       "      <th>Partisan</th>\n",
       "    </tr>\n",
       "  </thead>\n",
       "  <tbody>\n",
       "    <tr>\n",
       "      <th>0</th>\n",
       "      <td>0.0</td>\n",
       "      <td>0.0</td>\n",
       "      <td>0.0</td>\n",
       "      <td>0.0</td>\n",
       "      <td>1.0</td>\n",
       "      <td>0.0</td>\n",
       "      <td>1.0</td>\n",
       "      <td>0.0</td>\n",
       "      <td>0.0</td>\n",
       "    </tr>\n",
       "    <tr>\n",
       "      <th>1</th>\n",
       "      <td>0.0</td>\n",
       "      <td>0.0</td>\n",
       "      <td>0.0</td>\n",
       "      <td>0.0</td>\n",
       "      <td>0.0</td>\n",
       "      <td>1.0</td>\n",
       "      <td>1.0</td>\n",
       "      <td>0.0</td>\n",
       "      <td>0.0</td>\n",
       "    </tr>\n",
       "    <tr>\n",
       "      <th>2</th>\n",
       "      <td>0.0</td>\n",
       "      <td>0.0</td>\n",
       "      <td>0.0</td>\n",
       "      <td>0.0</td>\n",
       "      <td>1.0</td>\n",
       "      <td>0.0</td>\n",
       "      <td>1.0</td>\n",
       "      <td>0.0</td>\n",
       "      <td>0.0</td>\n",
       "    </tr>\n",
       "    <tr>\n",
       "      <th>3</th>\n",
       "      <td>0.0</td>\n",
       "      <td>0.0</td>\n",
       "      <td>0.0</td>\n",
       "      <td>1.0</td>\n",
       "      <td>0.0</td>\n",
       "      <td>0.0</td>\n",
       "      <td>0.0</td>\n",
       "      <td>1.0</td>\n",
       "      <td>0.0</td>\n",
       "    </tr>\n",
       "    <tr>\n",
       "      <th>4</th>\n",
       "      <td>0.0</td>\n",
       "      <td>0.0</td>\n",
       "      <td>1.0</td>\n",
       "      <td>0.0</td>\n",
       "      <td>0.0</td>\n",
       "      <td>0.0</td>\n",
       "      <td>1.0</td>\n",
       "      <td>0.0</td>\n",
       "      <td>0.0</td>\n",
       "    </tr>\n",
       "  </tbody>\n",
       "</table>\n",
       "</div>"
      ],
      "text/plain": [
       "   Alternatif  Presse magazine  Presse nationale  Presse_regionale  \\\n",
       "0         0.0              0.0               0.0               0.0   \n",
       "1         0.0              0.0               0.0               0.0   \n",
       "2         0.0              0.0               0.0               0.0   \n",
       "3         0.0              0.0               0.0               1.0   \n",
       "4         0.0              0.0               1.0               0.0   \n",
       "\n",
       "   Pure Players   TV  Core  Niche  Partisan  \n",
       "0           1.0  0.0   1.0    0.0       0.0  \n",
       "1           0.0  1.0   1.0    0.0       0.0  \n",
       "2           1.0  0.0   1.0    0.0       0.0  \n",
       "3           0.0  0.0   0.0    1.0       0.0  \n",
       "4           0.0  0.0   1.0    0.0       0.0  "
      ]
     },
     "execution_count": 150,
     "metadata": {},
     "output_type": "execute_result"
    }
   ],
   "source": [
    "categorical_columns.head()"
   ]
  },
  {
   "cell_type": "code",
   "execution_count": 151,
   "metadata": {},
   "outputs": [],
   "source": [
    "df_encoder = pd.concat([df, categorical_columns], axis=1)"
   ]
  },
  {
   "cell_type": "code",
   "execution_count": 122,
   "metadata": {},
   "outputs": [],
   "source": [
    "df_encoder.drop(['categorie_new', 'categ_inst', 'channel_name'], axis=1, inplace=True)"
   ]
  },
  {
   "cell_type": "code",
   "execution_count": 123,
   "metadata": {},
   "outputs": [
    {
     "data": {
      "text/html": [
       "<div>\n",
       "<style scoped>\n",
       "    .dataframe tbody tr th:only-of-type {\n",
       "        vertical-align: middle;\n",
       "    }\n",
       "\n",
       "    .dataframe tbody tr th {\n",
       "        vertical-align: top;\n",
       "    }\n",
       "\n",
       "    .dataframe thead th {\n",
       "        text-align: right;\n",
       "    }\n",
       "</style>\n",
       "<table border=\"1\" class=\"dataframe\">\n",
       "  <thead>\n",
       "    <tr style=\"text-align: right;\">\n",
       "      <th></th>\n",
       "      <th>nbrMot</th>\n",
       "      <th>nbrMotInsulte</th>\n",
       "      <th>nbrMotAllong</th>\n",
       "      <th>nbrMotMAJ</th>\n",
       "      <th>nbrExclMark</th>\n",
       "      <th>nbrQuestMark</th>\n",
       "      <th>nbrMotMoyenne</th>\n",
       "      <th>nbrMotInsulteMoyenne</th>\n",
       "      <th>nbrMotAllongMoyenne</th>\n",
       "      <th>nbrMotMAJMoyenne</th>\n",
       "      <th>nbrExclMarkMoyenne</th>\n",
       "      <th>nbrQuestMarkMoyenne</th>\n",
       "      <th>thread_count</th>\n",
       "      <th>comment_count</th>\n",
       "      <th>...</th>\n",
       "      <th>authors_3channels_count</th>\n",
       "      <th>liked_authors_count</th>\n",
       "      <th>subscriberCount</th>\n",
       "      <th>viewCount</th>\n",
       "      <th>toxicité</th>\n",
       "      <th>Alternatif</th>\n",
       "      <th>Presse magazine</th>\n",
       "      <th>Presse nationale</th>\n",
       "      <th>Presse_regionale</th>\n",
       "      <th>Pure Players</th>\n",
       "      <th>TV</th>\n",
       "      <th>Core</th>\n",
       "      <th>Niche</th>\n",
       "      <th>Partisan</th>\n",
       "    </tr>\n",
       "  </thead>\n",
       "  <tbody>\n",
       "    <tr>\n",
       "      <th>0</th>\n",
       "      <td>3813</td>\n",
       "      <td>18</td>\n",
       "      <td>4</td>\n",
       "      <td>145</td>\n",
       "      <td>79</td>\n",
       "      <td>60</td>\n",
       "      <td>30.261900</td>\n",
       "      <td>0.142857</td>\n",
       "      <td>0.031746</td>\n",
       "      <td>1.150794</td>\n",
       "      <td>0.626984</td>\n",
       "      <td>0.476190</td>\n",
       "      <td>45</td>\n",
       "      <td>81</td>\n",
       "      <td>...</td>\n",
       "      <td>47</td>\n",
       "      <td>23</td>\n",
       "      <td>339922</td>\n",
       "      <td>225393312</td>\n",
       "      <td>4</td>\n",
       "      <td>0.0</td>\n",
       "      <td>0.0</td>\n",
       "      <td>0.0</td>\n",
       "      <td>0.0</td>\n",
       "      <td>1.0</td>\n",
       "      <td>0.0</td>\n",
       "      <td>1.0</td>\n",
       "      <td>0.0</td>\n",
       "      <td>0.0</td>\n",
       "    </tr>\n",
       "    <tr>\n",
       "      <th>1</th>\n",
       "      <td>28</td>\n",
       "      <td>2</td>\n",
       "      <td>0</td>\n",
       "      <td>1</td>\n",
       "      <td>0</td>\n",
       "      <td>0</td>\n",
       "      <td>9.333333</td>\n",
       "      <td>0.666667</td>\n",
       "      <td>0.000000</td>\n",
       "      <td>0.333333</td>\n",
       "      <td>0.000000</td>\n",
       "      <td>0.000000</td>\n",
       "      <td>3</td>\n",
       "      <td>0</td>\n",
       "      <td>...</td>\n",
       "      <td>1</td>\n",
       "      <td>0</td>\n",
       "      <td>189971</td>\n",
       "      <td>132125693</td>\n",
       "      <td>1</td>\n",
       "      <td>0.0</td>\n",
       "      <td>0.0</td>\n",
       "      <td>0.0</td>\n",
       "      <td>0.0</td>\n",
       "      <td>0.0</td>\n",
       "      <td>1.0</td>\n",
       "      <td>1.0</td>\n",
       "      <td>0.0</td>\n",
       "      <td>0.0</td>\n",
       "    </tr>\n",
       "    <tr>\n",
       "      <th>2</th>\n",
       "      <td>3804</td>\n",
       "      <td>68</td>\n",
       "      <td>9</td>\n",
       "      <td>56</td>\n",
       "      <td>75</td>\n",
       "      <td>54</td>\n",
       "      <td>27.565220</td>\n",
       "      <td>0.492754</td>\n",
       "      <td>0.065217</td>\n",
       "      <td>0.405797</td>\n",
       "      <td>0.543478</td>\n",
       "      <td>0.391304</td>\n",
       "      <td>52</td>\n",
       "      <td>86</td>\n",
       "      <td>...</td>\n",
       "      <td>49</td>\n",
       "      <td>36</td>\n",
       "      <td>339922</td>\n",
       "      <td>225393312</td>\n",
       "      <td>2</td>\n",
       "      <td>0.0</td>\n",
       "      <td>0.0</td>\n",
       "      <td>0.0</td>\n",
       "      <td>0.0</td>\n",
       "      <td>1.0</td>\n",
       "      <td>0.0</td>\n",
       "      <td>1.0</td>\n",
       "      <td>0.0</td>\n",
       "      <td>0.0</td>\n",
       "    </tr>\n",
       "    <tr>\n",
       "      <th>3</th>\n",
       "      <td>4</td>\n",
       "      <td>0</td>\n",
       "      <td>1</td>\n",
       "      <td>2</td>\n",
       "      <td>0</td>\n",
       "      <td>0</td>\n",
       "      <td>2.000000</td>\n",
       "      <td>0.000000</td>\n",
       "      <td>0.500000</td>\n",
       "      <td>1.000000</td>\n",
       "      <td>0.000000</td>\n",
       "      <td>0.000000</td>\n",
       "      <td>2</td>\n",
       "      <td>0</td>\n",
       "      <td>...</td>\n",
       "      <td>0</td>\n",
       "      <td>0</td>\n",
       "      <td>2862</td>\n",
       "      <td>2481100</td>\n",
       "      <td>2</td>\n",
       "      <td>0.0</td>\n",
       "      <td>0.0</td>\n",
       "      <td>0.0</td>\n",
       "      <td>1.0</td>\n",
       "      <td>0.0</td>\n",
       "      <td>0.0</td>\n",
       "      <td>0.0</td>\n",
       "      <td>1.0</td>\n",
       "      <td>0.0</td>\n",
       "    </tr>\n",
       "    <tr>\n",
       "      <th>4</th>\n",
       "      <td>737</td>\n",
       "      <td>3</td>\n",
       "      <td>1</td>\n",
       "      <td>18</td>\n",
       "      <td>5</td>\n",
       "      <td>6</td>\n",
       "      <td>32.043478</td>\n",
       "      <td>0.130435</td>\n",
       "      <td>0.043478</td>\n",
       "      <td>0.782609</td>\n",
       "      <td>0.217391</td>\n",
       "      <td>0.260870</td>\n",
       "      <td>17</td>\n",
       "      <td>6</td>\n",
       "      <td>...</td>\n",
       "      <td>7</td>\n",
       "      <td>7</td>\n",
       "      <td>30010</td>\n",
       "      <td>6710737</td>\n",
       "      <td>2</td>\n",
       "      <td>0.0</td>\n",
       "      <td>0.0</td>\n",
       "      <td>1.0</td>\n",
       "      <td>0.0</td>\n",
       "      <td>0.0</td>\n",
       "      <td>0.0</td>\n",
       "      <td>1.0</td>\n",
       "      <td>0.0</td>\n",
       "      <td>0.0</td>\n",
       "    </tr>\n",
       "  </tbody>\n",
       "</table>\n",
       "<p>5 rows × 31 columns</p>\n",
       "</div>"
      ],
      "text/plain": [
       "   nbrMot  nbrMotInsulte  nbrMotAllong  nbrMotMAJ  nbrExclMark  nbrQuestMark  \\\n",
       "0    3813             18             4        145           79            60   \n",
       "1      28              2             0          1            0             0   \n",
       "2    3804             68             9         56           75            54   \n",
       "3       4              0             1          2            0             0   \n",
       "4     737              3             1         18            5             6   \n",
       "\n",
       "   nbrMotMoyenne  nbrMotInsulteMoyenne  nbrMotAllongMoyenne  nbrMotMAJMoyenne  \\\n",
       "0      30.261900              0.142857             0.031746          1.150794   \n",
       "1       9.333333              0.666667             0.000000          0.333333   \n",
       "2      27.565220              0.492754             0.065217          0.405797   \n",
       "3       2.000000              0.000000             0.500000          1.000000   \n",
       "4      32.043478              0.130435             0.043478          0.782609   \n",
       "\n",
       "   nbrExclMarkMoyenne  nbrQuestMarkMoyenne  thread_count  comment_count  ...  \\\n",
       "0            0.626984             0.476190            45             81  ...   \n",
       "1            0.000000             0.000000             3              0  ...   \n",
       "2            0.543478             0.391304            52             86  ...   \n",
       "3            0.000000             0.000000             2              0  ...   \n",
       "4            0.217391             0.260870            17              6  ...   \n",
       "\n",
       "   authors_3channels_count  liked_authors_count  subscriberCount  viewCount  \\\n",
       "0                       47                   23           339922  225393312   \n",
       "1                        1                    0           189971  132125693   \n",
       "2                       49                   36           339922  225393312   \n",
       "3                        0                    0             2862    2481100   \n",
       "4                        7                    7            30010    6710737   \n",
       "\n",
       "   toxicité  Alternatif  Presse magazine  Presse nationale  Presse_regionale  \\\n",
       "0         4         0.0              0.0               0.0               0.0   \n",
       "1         1         0.0              0.0               0.0               0.0   \n",
       "2         2         0.0              0.0               0.0               0.0   \n",
       "3         2         0.0              0.0               0.0               1.0   \n",
       "4         2         0.0              0.0               1.0               0.0   \n",
       "\n",
       "   Pure Players   TV  Core  Niche  Partisan  \n",
       "0           1.0  0.0   1.0    0.0       0.0  \n",
       "1           0.0  1.0   1.0    0.0       0.0  \n",
       "2           1.0  0.0   1.0    0.0       0.0  \n",
       "3           0.0  0.0   0.0    1.0       0.0  \n",
       "4           0.0  0.0   1.0    0.0       0.0  \n",
       "\n",
       "[5 rows x 31 columns]"
      ]
     },
     "execution_count": 123,
     "metadata": {},
     "output_type": "execute_result"
    }
   ],
   "source": [
    "df_encoder.head()"
   ]
  },
  {
   "cell_type": "markdown",
   "metadata": {},
   "source": [
    "**Création du Train set et Test set**"
   ]
  },
  {
   "cell_type": "code",
   "execution_count": 124,
   "metadata": {},
   "outputs": [],
   "source": [
    "from sklearn.model_selection import train_test_split"
   ]
  },
  {
   "cell_type": "code",
   "execution_count": 125,
   "metadata": {},
   "outputs": [],
   "source": [
    "train_set, test_set = train_test_split(df_encoder, test_size = 0.2, random_state = 0)"
   ]
  },
  {
   "cell_type": "code",
   "execution_count": 126,
   "metadata": {},
   "outputs": [],
   "source": [
    "def preprocessing(df):\n",
    "    \n",
    "    X = df.drop('toxicité', axis=1)\n",
    "    y = df['toxicité']\n",
    "    \n",
    "    print(X.shape, y.shape)\n",
    "    return X,y"
   ]
  },
  {
   "cell_type": "code",
   "execution_count": 127,
   "metadata": {},
   "outputs": [
    {
     "name": "stdout",
     "output_type": "stream",
     "text": [
      "(36881, 30) (36881,)\n"
     ]
    }
   ],
   "source": [
    "X_train, y_train = preprocessing(train_set) "
   ]
  },
  {
   "cell_type": "code",
   "execution_count": 128,
   "metadata": {},
   "outputs": [
    {
     "name": "stdout",
     "output_type": "stream",
     "text": [
      "(9221, 30) (9221,)\n"
     ]
    }
   ],
   "source": [
    "X_test, y_test = preprocessing(test_set) "
   ]
  },
  {
   "cell_type": "markdown",
   "metadata": {},
   "source": [
    "## Modélisation"
   ]
  },
  {
   "cell_type": "markdown",
   "metadata": {},
   "source": [
    "**Nous allons déterminer quel modèle de classification est le plus efficace**"
   ]
  },
  {
   "cell_type": "code",
   "execution_count": 133,
   "metadata": {},
   "outputs": [],
   "source": [
    "from sklearn.ensemble import RandomForestClassifier\n",
    "from sklearn.tree import DecisionTreeClassifier\n",
    "from sklearn.linear_model import LogisticRegression\n",
    "from sklearn.neighbors import KNeighborsClassifier\n",
    "from sklearn.svm import SVC\n",
    "from sklearn.ensemble import GradientBoostingClassifier\n",
    "from sklearn.naive_bayes import GaussianNB"
   ]
  },
  {
   "cell_type": "code",
   "execution_count": 134,
   "metadata": {},
   "outputs": [],
   "source": [
    "from sklearn.model_selection import GridSearchCV\n",
    "from sklearn.metrics import r2_score\n",
    "from sklearn.model_selection import learning_curve"
   ]
  },
  {
   "cell_type": "code",
   "execution_count": 135,
   "metadata": {},
   "outputs": [],
   "source": [
    "model_a = DecisionTreeClassifier(random_state=0)\n",
    "model_b = KNeighborsClassifier(n_neighbors=2)\n",
    "model_c = SVC()\n",
    "model_d = RandomForestClassifier()\n",
    "model_e = LogisticRegression()\n",
    "model_f = GradientBoostingClassifier()\n",
    "model_g = GaussianNB()"
   ]
  },
  {
   "cell_type": "code",
   "execution_count": 136,
   "metadata": {},
   "outputs": [],
   "source": [
    "dict_of_models = {'DecisionTree': model_a,\n",
    "                 'KNeighbors': model_b,\n",
    "                 'SVM': model_c, \n",
    "                 'RandomForest': model_d, \n",
    "                 'LogisticRegression': model_e,\n",
    "                 'GradientBoosting' : model_f, \n",
    "                 'GaussianNB' : model_g}"
   ]
  },
  {
   "cell_type": "code",
   "execution_count": 137,
   "metadata": {},
   "outputs": [
    {
     "name": "stdout",
     "output_type": "stream",
     "text": [
      "DecisionTree\n",
      "0.9706105628456784\n",
      "KNeighbors\n",
      "0.6905975490727687\n",
      "SVM\n",
      "0.5919097711744931\n",
      "RandomForest\n",
      "0.9465350829628023\n",
      "LogisticRegression\n",
      "0.5902830495607851\n",
      "GradientBoosting\n",
      "0.9341719986986227\n",
      "GaussianNB\n",
      "0.6239019629107472\n"
     ]
    }
   ],
   "source": [
    "for name, model in dict_of_models.items():\n",
    "    \n",
    "    model.fit(X_train,y_train)\n",
    "    print(name)\n",
    "    print(model.score(X_test, y_test))"
   ]
  },
  {
   "cell_type": "code",
   "execution_count": 138,
   "metadata": {},
   "outputs": [],
   "source": [
    "dict_of_models_performant = {'DecisionTree': model_a,\n",
    "                 'RandomForest': model_d, \n",
    "                 'GradientBoosting' : model_f}"
   ]
  },
  {
   "cell_type": "code",
   "execution_count": 139,
   "metadata": {},
   "outputs": [
    {
     "data": {
      "image/png": "[encoded data removed]",
      "text/plain": [
       "<Figure size 864x576 with 1 Axes>"
      ]
     },
     "metadata": {
      "needs_background": "light"
     },
     "output_type": "display_data"
    },
    {
     "data": {
      "image/png": "[encoded data removed]",
      "text/plain": [
       "<Figure size 864x576 with 1 Axes>"
      ]
     },
     "metadata": {
      "needs_background": "light"
     },
     "output_type": "display_data"
    },
    {
     "data": {
      "image/png": "[encoded data removed]",
      "text/plain": [
       "<Figure size 864x576 with 1 Axes>"
      ]
     },
     "metadata": {
      "needs_background": "light"
     },
     "output_type": "display_data"
    }
   ],
   "source": [
    "for name, model in dict_of_models_performant.items():\n",
    "    \n",
    "    N, train_score, val_score = learning_curve(model, X_train, y_train,\n",
    "                                          cv=4, train_sizes=np.linspace(0.1,1,10))\n",
    "    \n",
    "    plt.figure(figsize=(12,8))\n",
    "    plt.plot(N, train_score.mean(axis=1), label='train score')\n",
    "    plt.plot(N, val_score.mean(axis=1), label='validation score')\n",
    "    plt.legend()\n",
    "    plt.title(name)"
   ]
  },
  {
   "cell_type": "markdown",
   "metadata": {},
   "source": [
    "**On peut remarquer que les modèles de decisionTree et RandomForest sont en Over-Fitting.**"
   ]
  },
  {
   "cell_type": "markdown",
   "metadata": {},
   "source": [
    "**Néanmoins on obtient un excellent score avec le GradientBoosting sans avoir d'over-fitting (le trainscore se rapproche du valid score)**"
   ]
  },
  {
   "cell_type": "code",
   "execution_count": 140,
   "metadata": {},
   "outputs": [],
   "source": [
    "from sklearn.metrics import f1_score, confusion_matrix, classification_report"
   ]
  },
  {
   "cell_type": "code",
   "execution_count": 141,
   "metadata": {},
   "outputs": [
    {
     "name": "stdout",
     "output_type": "stream",
     "text": [
      "[[5382   76    0    0]\n",
      " [  87 1341  174    0]\n",
      " [   8  118 1561    5]\n",
      " [   0    2  138  329]]\n",
      "              precision    recall  f1-score   support\n",
      "\n",
      "           1       0.98      0.99      0.98      5458\n",
      "           2       0.87      0.84      0.85      1602\n",
      "           3       0.83      0.92      0.88      1692\n",
      "           4       0.99      0.70      0.82       469\n",
      "\n",
      "    accuracy                           0.93      9221\n",
      "   macro avg       0.92      0.86      0.88      9221\n",
      "weighted avg       0.94      0.93      0.93      9221\n",
      "\n"
     ]
    }
   ],
   "source": [
    "model_f = GradientBoostingClassifier()\n",
    "model.fit(X_train, y_train)\n",
    "y_pred = model.predict(X_test)\n",
    "\n",
    "print(confusion_matrix(y_test, y_pred))\n",
    "print(classification_report(y_test,y_pred))"
   ]
  },
  {
   "cell_type": "markdown",
   "metadata": {},
   "source": [
    "**En plus d'avoir un modèle avec un bon score, on peut également voir que nous avons une bonne précision, un bon recall et un bon f1-score.**"
   ]
  },
  {
   "cell_type": "markdown",
   "metadata": {},
   "source": [
    "**Nous avons réussi à définir un modèle précis capable de classifier si la vidéo youtube sera toxique ou non.**"
   ]
  },
  {
   "cell_type": "code",
   "execution_count": null,
   "metadata": {},
   "outputs": [],
   "source": []
  }
 ],
 "metadata": {
  "kernelspec": {
   "display_name": "Python 3",
   "language": "python",
   "name": "python3"
  },
  "language_info": {
   "codemirror_mode": {
    "name": "ipython",
    "version": 3
   },
   "file_extension": ".py",
   "mimetype": "text/x-python",
   "name": "python",
   "nbconvert_exporter": "python",
   "pygments_lexer": "ipython3",
   "version": "3.8.3"
  }
 },
 "nbformat": 4,
 "nbformat_minor": 4
}
