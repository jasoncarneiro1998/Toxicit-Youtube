{
 "cells": [
  {
   "cell_type": "markdown",
   "metadata": {},
   "source": [
    "# Modélisation et estimation de la variable de toxicité"
   ]
  },
  {
   "cell_type": "markdown",
   "metadata": {},
   "source": [
    "# Base de données initiale"
   ]
  },
  {
   "cell_type": "code",
   "execution_count": 55,
   "metadata": {},
   "outputs": [
    {
     "data": {
      "text/html": [
       "<div>\n",
       "<style scoped>\n",
       "    .dataframe tbody tr th:only-of-type {\n",
       "        vertical-align: middle;\n",
       "    }\n",
       "\n",
       "    .dataframe tbody tr th {\n",
       "        vertical-align: top;\n",
       "    }\n",
       "\n",
       "    .dataframe thead th {\n",
       "        text-align: right;\n",
       "    }\n",
       "</style>\n",
       "<table border=\"1\" class=\"dataframe\">\n",
       "  <thead>\n",
       "    <tr style=\"text-align: right;\">\n",
       "      <th></th>\n",
       "      <th>nbrMot</th>\n",
       "      <th>nbrMotInsulte</th>\n",
       "      <th>nbrMotAllong</th>\n",
       "      <th>nbrMotMAJ</th>\n",
       "      <th>nbrExclMark</th>\n",
       "      <th>nbrQuestMark</th>\n",
       "      <th>nbrMotMoyenne</th>\n",
       "      <th>nbrMotInsulteMoyenne</th>\n",
       "      <th>nbrMotAllongMoyenne</th>\n",
       "      <th>nbrMotMAJMoyenne</th>\n",
       "      <th>...</th>\n",
       "      <th>message_count</th>\n",
       "      <th>discussion_count</th>\n",
       "      <th>distinct_authors_count</th>\n",
       "      <th>authors_3channels_count</th>\n",
       "      <th>liked_authors_count</th>\n",
       "      <th>channel_name</th>\n",
       "      <th>subscriberCount</th>\n",
       "      <th>viewCount</th>\n",
       "      <th>categorie_new</th>\n",
       "      <th>categ_inst</th>\n",
       "    </tr>\n",
       "  </thead>\n",
       "  <tbody>\n",
       "    <tr>\n",
       "      <th>0</th>\n",
       "      <td>3813</td>\n",
       "      <td>18</td>\n",
       "      <td>4</td>\n",
       "      <td>145</td>\n",
       "      <td>79</td>\n",
       "      <td>60</td>\n",
       "      <td>30.261900</td>\n",
       "      <td>0.142857</td>\n",
       "      <td>0.031746</td>\n",
       "      <td>1.150794</td>\n",
       "      <td>...</td>\n",
       "      <td>126</td>\n",
       "      <td>28</td>\n",
       "      <td>58</td>\n",
       "      <td>47</td>\n",
       "      <td>23</td>\n",
       "      <td>LeHuffPost</td>\n",
       "      <td>339922</td>\n",
       "      <td>225393312</td>\n",
       "      <td>Core</td>\n",
       "      <td>Pure Players</td>\n",
       "    </tr>\n",
       "    <tr>\n",
       "      <th>1</th>\n",
       "      <td>28</td>\n",
       "      <td>2</td>\n",
       "      <td>0</td>\n",
       "      <td>1</td>\n",
       "      <td>0</td>\n",
       "      <td>0</td>\n",
       "      <td>9.333333</td>\n",
       "      <td>0.666667</td>\n",
       "      <td>0.000000</td>\n",
       "      <td>0.333333</td>\n",
       "      <td>...</td>\n",
       "      <td>3</td>\n",
       "      <td>0</td>\n",
       "      <td>3</td>\n",
       "      <td>1</td>\n",
       "      <td>0</td>\n",
       "      <td>CNEWS</td>\n",
       "      <td>189971</td>\n",
       "      <td>132125693</td>\n",
       "      <td>Core</td>\n",
       "      <td>TV</td>\n",
       "    </tr>\n",
       "    <tr>\n",
       "      <th>2</th>\n",
       "      <td>3804</td>\n",
       "      <td>68</td>\n",
       "      <td>9</td>\n",
       "      <td>56</td>\n",
       "      <td>75</td>\n",
       "      <td>54</td>\n",
       "      <td>27.565220</td>\n",
       "      <td>0.492754</td>\n",
       "      <td>0.065217</td>\n",
       "      <td>0.405797</td>\n",
       "      <td>...</td>\n",
       "      <td>138</td>\n",
       "      <td>22</td>\n",
       "      <td>83</td>\n",
       "      <td>49</td>\n",
       "      <td>36</td>\n",
       "      <td>LeHuffPost</td>\n",
       "      <td>339922</td>\n",
       "      <td>225393312</td>\n",
       "      <td>Core</td>\n",
       "      <td>Pure Players</td>\n",
       "    </tr>\n",
       "    <tr>\n",
       "      <th>3</th>\n",
       "      <td>4</td>\n",
       "      <td>0</td>\n",
       "      <td>1</td>\n",
       "      <td>2</td>\n",
       "      <td>0</td>\n",
       "      <td>0</td>\n",
       "      <td>2.000000</td>\n",
       "      <td>0.000000</td>\n",
       "      <td>0.500000</td>\n",
       "      <td>1.000000</td>\n",
       "      <td>...</td>\n",
       "      <td>2</td>\n",
       "      <td>0</td>\n",
       "      <td>2</td>\n",
       "      <td>0</td>\n",
       "      <td>0</td>\n",
       "      <td>Telegramme</td>\n",
       "      <td>2862</td>\n",
       "      <td>2481100</td>\n",
       "      <td>Niche</td>\n",
       "      <td>Presse_regionale</td>\n",
       "    </tr>\n",
       "    <tr>\n",
       "      <th>4</th>\n",
       "      <td>737</td>\n",
       "      <td>3</td>\n",
       "      <td>1</td>\n",
       "      <td>18</td>\n",
       "      <td>5</td>\n",
       "      <td>6</td>\n",
       "      <td>32.043478</td>\n",
       "      <td>0.130435</td>\n",
       "      <td>0.043478</td>\n",
       "      <td>0.782609</td>\n",
       "      <td>...</td>\n",
       "      <td>23</td>\n",
       "      <td>4</td>\n",
       "      <td>18</td>\n",
       "      <td>7</td>\n",
       "      <td>7</td>\n",
       "      <td>Les Echos</td>\n",
       "      <td>30010</td>\n",
       "      <td>6710737</td>\n",
       "      <td>Core</td>\n",
       "      <td>Presse nationale</td>\n",
       "    </tr>\n",
       "    <tr>\n",
       "      <th>...</th>\n",
       "      <td>...</td>\n",
       "      <td>...</td>\n",
       "      <td>...</td>\n",
       "      <td>...</td>\n",
       "      <td>...</td>\n",
       "      <td>...</td>\n",
       "      <td>...</td>\n",
       "      <td>...</td>\n",
       "      <td>...</td>\n",
       "      <td>...</td>\n",
       "      <td>...</td>\n",
       "      <td>...</td>\n",
       "      <td>...</td>\n",
       "      <td>...</td>\n",
       "      <td>...</td>\n",
       "      <td>...</td>\n",
       "      <td>...</td>\n",
       "      <td>...</td>\n",
       "      <td>...</td>\n",
       "      <td>...</td>\n",
       "      <td>...</td>\n",
       "    </tr>\n",
       "    <tr>\n",
       "      <th>46097</th>\n",
       "      <td>16</td>\n",
       "      <td>0</td>\n",
       "      <td>0</td>\n",
       "      <td>0</td>\n",
       "      <td>3</td>\n",
       "      <td>0</td>\n",
       "      <td>5.333333</td>\n",
       "      <td>0.000000</td>\n",
       "      <td>0.000000</td>\n",
       "      <td>0.000000</td>\n",
       "      <td>...</td>\n",
       "      <td>3</td>\n",
       "      <td>0</td>\n",
       "      <td>3</td>\n",
       "      <td>1</td>\n",
       "      <td>0</td>\n",
       "      <td>Le Parisien</td>\n",
       "      <td>149018</td>\n",
       "      <td>85536183</td>\n",
       "      <td>Core</td>\n",
       "      <td>Presse_regionale</td>\n",
       "    </tr>\n",
       "    <tr>\n",
       "      <th>46098</th>\n",
       "      <td>228</td>\n",
       "      <td>1</td>\n",
       "      <td>1</td>\n",
       "      <td>0</td>\n",
       "      <td>0</td>\n",
       "      <td>1</td>\n",
       "      <td>228.000000</td>\n",
       "      <td>1.000000</td>\n",
       "      <td>1.000000</td>\n",
       "      <td>0.000000</td>\n",
       "      <td>...</td>\n",
       "      <td>1</td>\n",
       "      <td>0</td>\n",
       "      <td>1</td>\n",
       "      <td>0</td>\n",
       "      <td>0</td>\n",
       "      <td>Le Monde</td>\n",
       "      <td>568615</td>\n",
       "      <td>134570352</td>\n",
       "      <td>Core</td>\n",
       "      <td>Presse nationale</td>\n",
       "    </tr>\n",
       "    <tr>\n",
       "      <th>46099</th>\n",
       "      <td>287</td>\n",
       "      <td>2</td>\n",
       "      <td>0</td>\n",
       "      <td>3</td>\n",
       "      <td>2</td>\n",
       "      <td>0</td>\n",
       "      <td>35.875000</td>\n",
       "      <td>0.250000</td>\n",
       "      <td>0.000000</td>\n",
       "      <td>0.375000</td>\n",
       "      <td>...</td>\n",
       "      <td>8</td>\n",
       "      <td>0</td>\n",
       "      <td>7</td>\n",
       "      <td>5</td>\n",
       "      <td>3</td>\n",
       "      <td>CNEWS</td>\n",
       "      <td>189971</td>\n",
       "      <td>132125693</td>\n",
       "      <td>Core</td>\n",
       "      <td>TV</td>\n",
       "    </tr>\n",
       "    <tr>\n",
       "      <th>46100</th>\n",
       "      <td>176</td>\n",
       "      <td>0</td>\n",
       "      <td>0</td>\n",
       "      <td>0</td>\n",
       "      <td>6</td>\n",
       "      <td>3</td>\n",
       "      <td>58.666670</td>\n",
       "      <td>0.000000</td>\n",
       "      <td>0.000000</td>\n",
       "      <td>0.000000</td>\n",
       "      <td>...</td>\n",
       "      <td>3</td>\n",
       "      <td>1</td>\n",
       "      <td>3</td>\n",
       "      <td>0</td>\n",
       "      <td>1</td>\n",
       "      <td>Le Figaro</td>\n",
       "      <td>180173</td>\n",
       "      <td>140135417</td>\n",
       "      <td>Core</td>\n",
       "      <td>Presse nationale</td>\n",
       "    </tr>\n",
       "    <tr>\n",
       "      <th>46101</th>\n",
       "      <td>16608</td>\n",
       "      <td>152</td>\n",
       "      <td>66</td>\n",
       "      <td>335</td>\n",
       "      <td>177</td>\n",
       "      <td>179</td>\n",
       "      <td>22.504070</td>\n",
       "      <td>0.205962</td>\n",
       "      <td>0.089431</td>\n",
       "      <td>0.453929</td>\n",
       "      <td>...</td>\n",
       "      <td>738</td>\n",
       "      <td>48</td>\n",
       "      <td>440</td>\n",
       "      <td>278</td>\n",
       "      <td>141</td>\n",
       "      <td>LeHuffPost</td>\n",
       "      <td>339922</td>\n",
       "      <td>225393312</td>\n",
       "      <td>Core</td>\n",
       "      <td>Pure Players</td>\n",
       "    </tr>\n",
       "  </tbody>\n",
       "</table>\n",
       "<p>46102 rows × 24 columns</p>\n",
       "</div>"
      ],
      "text/plain": [
       "       nbrMot  nbrMotInsulte  nbrMotAllong  nbrMotMAJ  nbrExclMark  \\\n",
       "0        3813             18             4        145           79   \n",
       "1          28              2             0          1            0   \n",
       "2        3804             68             9         56           75   \n",
       "3           4              0             1          2            0   \n",
       "4         737              3             1         18            5   \n",
       "...       ...            ...           ...        ...          ...   \n",
       "46097      16              0             0          0            3   \n",
       "46098     228              1             1          0            0   \n",
       "46099     287              2             0          3            2   \n",
       "46100     176              0             0          0            6   \n",
       "46101   16608            152            66        335          177   \n",
       "\n",
       "       nbrQuestMark  nbrMotMoyenne  nbrMotInsulteMoyenne  nbrMotAllongMoyenne  \\\n",
       "0                60      30.261900              0.142857             0.031746   \n",
       "1                 0       9.333333              0.666667             0.000000   \n",
       "2                54      27.565220              0.492754             0.065217   \n",
       "3                 0       2.000000              0.000000             0.500000   \n",
       "4                 6      32.043478              0.130435             0.043478   \n",
       "...             ...            ...                   ...                  ...   \n",
       "46097             0       5.333333              0.000000             0.000000   \n",
       "46098             1     228.000000              1.000000             1.000000   \n",
       "46099             0      35.875000              0.250000             0.000000   \n",
       "46100             3      58.666670              0.000000             0.000000   \n",
       "46101           179      22.504070              0.205962             0.089431   \n",
       "\n",
       "       nbrMotMAJMoyenne  ...  message_count  discussion_count  \\\n",
       "0              1.150794  ...            126                28   \n",
       "1              0.333333  ...              3                 0   \n",
       "2              0.405797  ...            138                22   \n",
       "3              1.000000  ...              2                 0   \n",
       "4              0.782609  ...             23                 4   \n",
       "...                 ...  ...            ...               ...   \n",
       "46097          0.000000  ...              3                 0   \n",
       "46098          0.000000  ...              1                 0   \n",
       "46099          0.375000  ...              8                 0   \n",
       "46100          0.000000  ...              3                 1   \n",
       "46101          0.453929  ...            738                48   \n",
       "\n",
       "       distinct_authors_count  authors_3channels_count  liked_authors_count  \\\n",
       "0                          58                       47                   23   \n",
       "1                           3                        1                    0   \n",
       "2                          83                       49                   36   \n",
       "3                           2                        0                    0   \n",
       "4                          18                        7                    7   \n",
       "...                       ...                      ...                  ...   \n",
       "46097                       3                        1                    0   \n",
       "46098                       1                        0                    0   \n",
       "46099                       7                        5                    3   \n",
       "46100                       3                        0                    1   \n",
       "46101                     440                      278                  141   \n",
       "\n",
       "       channel_name  subscriberCount  viewCount  categorie_new  \\\n",
       "0        LeHuffPost           339922  225393312           Core   \n",
       "1             CNEWS           189971  132125693           Core   \n",
       "2        LeHuffPost           339922  225393312           Core   \n",
       "3        Telegramme             2862    2481100          Niche   \n",
       "4         Les Echos            30010    6710737           Core   \n",
       "...             ...              ...        ...            ...   \n",
       "46097   Le Parisien           149018   85536183           Core   \n",
       "46098      Le Monde           568615  134570352           Core   \n",
       "46099         CNEWS           189971  132125693           Core   \n",
       "46100     Le Figaro           180173  140135417           Core   \n",
       "46101    LeHuffPost           339922  225393312           Core   \n",
       "\n",
       "             categ_inst  \n",
       "0          Pure Players  \n",
       "1                    TV  \n",
       "2          Pure Players  \n",
       "3      Presse_regionale  \n",
       "4      Presse nationale  \n",
       "...                 ...  \n",
       "46097  Presse_regionale  \n",
       "46098  Presse nationale  \n",
       "46099                TV  \n",
       "46100  Presse nationale  \n",
       "46101      Pure Players  \n",
       "\n",
       "[46102 rows x 24 columns]"
      ]
     },
     "execution_count": 55,
     "metadata": {},
     "output_type": "execute_result"
    }
   ],
   "source": [
    "#import\n",
    "import pandas as pd\n",
    "import numpy as np\n",
    "import matplotlib.pyplot as plt\n",
    "\n",
    "# Library for boxplots\n",
    "import seaborn as sns\n",
    "\n",
    "#lecture du fichier Excel\n",
    "data = pd.read_csv ('challenge_youtube_toxic.csv',sep=\";\", encoding = \"ISO-8859-1\")\n",
    "\n",
    "#suppression des colonnes inutiles\n",
    "dftox= data.drop(['video_id_court','video_id', 'channel_id'], axis=1)\n",
    "\n",
    "#obtention de la base de donnée initiale\n",
    "dftox"
   ]
  },
  {
   "cell_type": "markdown",
   "metadata": {},
   "source": [
    "# Création de la base de données spécifique à la variable toxicité (justification du choix des variables voir rapport)"
   ]
  },
  {
   "cell_type": "code",
   "execution_count": 56,
   "metadata": {},
   "outputs": [
    {
     "name": "stderr",
     "output_type": "stream",
     "text": [
      "<ipython-input-56-f471ebcffca3>:3: SettingWithCopyWarning: \n",
      "A value is trying to be set on a copy of a slice from a DataFrame\n",
      "\n",
      "See the caveats in the documentation: https://pandas.pydata.org/pandas-docs/stable/user_guide/indexing.html#returning-a-view-versus-a-copy\n",
      "  dftox['nbrMot'][dftox['nbrMot'] ==0] = 1\n"
     ]
    }
   ],
   "source": [
    "#Remplacement des 0 par des 1 dans la colonne 'nbrMot' car division par cette variable, sinon valeur impossible\n",
    "#Aucun impact sur le résultat car la ponctuation n'est pas comptée comme un mot\n",
    "dftox['nbrMot'][dftox['nbrMot'] ==0] = 1\n",
    "\n",
    "#Création des variables 'nbrMotInsulte/nbrMot', 'nbrMotAllong/nbrMot', ... \n",
    "dftox['nbrMotInsulte/nbrMot']=dftox['nbrMotInsulte']/dftox['nbrMot']\n",
    "dftox['nbrMotAllong/nbrMot']=dftox['nbrMotAllong']/dftox['nbrMot']\n",
    "dftox['nbrMotMAJ/nbrMot']=dftox['nbrMotMAJ']/dftox['nbrMot']\n",
    "dftox['nbrExclMark/nbrMot']=dftox['nbrExclMark']/dftox['nbrMot']\n",
    "dftox['nbrQuestMark/nbrMot']=dftox['nbrQuestMark']/dftox['nbrMot']\n",
    "\n",
    "#Suppression des colonnes inutiles pour la variable toxicité\n",
    "dftox=dftox.drop(['nbrMotMoyenne','nbrMot','nbrMotInsulte','nbrMotAllong','nbrMotMAJ','nbrExclMark','nbrQuestMark'] ,axis=1)"
   ]
  },
  {
   "cell_type": "code",
   "execution_count": 57,
   "metadata": {},
   "outputs": [
    {
     "name": "stderr",
     "output_type": "stream",
     "text": [
      "<ipython-input-57-beea89293ef5>:2: SettingWithCopyWarning: \n",
      "A value is trying to be set on a copy of a slice from a DataFrame\n",
      "\n",
      "See the caveats in the documentation: https://pandas.pydata.org/pandas-docs/stable/user_guide/indexing.html#returning-a-view-versus-a-copy\n",
      "  dftox['message_count'][dftox['message_count'] ==0] = 1\n"
     ]
    }
   ],
   "source": [
    "#Remplacement des 0 par des 1 dans la colonne 'message_count' car division par cette variable, sinon valeur impossible\n",
    "dftox['message_count'][dftox['message_count'] ==0] = 1\n",
    "\n",
    "#Création des variables 'comment_count/message_count' et 'discussion_count/message_count'\n",
    "dftox['comment_count/message_count']=dftox['comment_count']/dftox['message_count']\n",
    "dftox['discussion_count/message_count']=dftox['discussion_count']/dftox['message_count']\n",
    "\n",
    "#Suppression des colonnes à présent inutiles\n",
    "dftox=dftox.drop(['message_count','comment_count','discussion_count','thread_count'],axis=1)"
   ]
  },
  {
   "cell_type": "code",
   "execution_count": 58,
   "metadata": {},
   "outputs": [],
   "source": [
    "#Suppression de variables\n",
    "dftox=dftox.drop(['distinct_authors_count','authors_3channels_count','liked_authors_count'],axis=1)"
   ]
  },
  {
   "cell_type": "code",
   "execution_count": 59,
   "metadata": {},
   "outputs": [
    {
     "name": "stderr",
     "output_type": "stream",
     "text": [
      "<ipython-input-59-f6f76154818c>:2: SettingWithCopyWarning: \n",
      "A value is trying to be set on a copy of a slice from a DataFrame\n",
      "\n",
      "See the caveats in the documentation: https://pandas.pydata.org/pandas-docs/stable/user_guide/indexing.html#returning-a-view-versus-a-copy\n",
      "  dftox['subscriberCount'][dftox['subscriberCount'] ==0] = 1\n"
     ]
    }
   ],
   "source": [
    "#Remplacement des 0 par des 1 dans la colonne 'message_count' car division par cette variable, sinon valeur impossible\n",
    "dftox['subscriberCount'][dftox['subscriberCount'] ==0] = 1\n",
    "\n",
    "#Création de la variable 'viewCount/subscriberCount'\n",
    "dftox['viewCount/subscriberCount']=dftox['viewCount']/dftox['subscriberCount']\n",
    "\n",
    "#Suppression des colonnes 'subscriberCount' et 'viewCount' inutiles à présent\n",
    "dftox=dftox.drop(['subscriberCount','viewCount'],axis=1)"
   ]
  },
  {
   "cell_type": "code",
   "execution_count": 60,
   "metadata": {},
   "outputs": [],
   "source": [
    "#suppression des variables catégorie\n",
    "dftox=dftox.drop(['channel_name','categorie_new','categ_inst'],axis=1)"
   ]
  },
  {
   "cell_type": "code",
   "execution_count": 61,
   "metadata": {},
   "outputs": [
    {
     "data": {
      "text/plain": [
       "nbrMotInsulteMoyenne              float64\n",
       "nbrMotAllongMoyenne               float64\n",
       "nbrMotMAJMoyenne                  float64\n",
       "nbrExclMarkMoyenne                float64\n",
       "nbrQuestMarkMoyenne               float64\n",
       "nbrMotInsulte/nbrMot              float64\n",
       "nbrMotAllong/nbrMot               float64\n",
       "nbrMotMAJ/nbrMot                  float64\n",
       "nbrExclMark/nbrMot                float64\n",
       "nbrQuestMark/nbrMot               float64\n",
       "comment_count/message_count       float64\n",
       "discussion_count/message_count    float64\n",
       "viewCount/subscriberCount         float64\n",
       "dtype: object"
      ]
     },
     "execution_count": 61,
     "metadata": {},
     "output_type": "execute_result"
    }
   ],
   "source": [
    "#vérification des types de la base de données\n",
    "dftox.dtypes"
   ]
  },
  {
   "cell_type": "markdown",
   "metadata": {},
   "source": [
    "# Détermination du score de toxicité"
   ]
  },
  {
   "cell_type": "raw",
   "metadata": {},
   "source": [
    "Afin de calculer le score de toxicité de chaque vidéo youtube, on aura besoin de modifier la base de donnée, on en crée donc une copie dftox2. On réimplantera la variable toxicité ensuite sur la base de donnée dftox2 afin d'avoir à la fois la target et les features dans la même base de données."
   ]
  },
  {
   "cell_type": "code",
   "execution_count": 62,
   "metadata": {},
   "outputs": [],
   "source": [
    "dftox2=dftox.copy()"
   ]
  },
  {
   "cell_type": "raw",
   "metadata": {},
   "source": [
    "Pour calculer le score de toxicité, nous allons couper chaque variable en 3 catégories, les valeurs comprises dans chaque catégories se verront attribuer les valeurs 1, 2 ou 3 suivant qu'elles soient dans la première, la deuxième ou la troisième tranche de valeur de la variable. Ces tranches de valeurs sont divisées en 3 de façon proportionnelle"
   ]
  },
  {
   "cell_type": "markdown",
   "metadata": {},
   "source": [
    "# Détail de la variable 'viewCount/subscriberCount'"
   ]
  },
  {
   "cell_type": "code",
   "execution_count": 63,
   "metadata": {},
   "outputs": [
    {
     "name": "stdout",
     "output_type": "stream",
     "text": [
      "count    4.610200e+04\n",
      "mean     6.482884e+03\n",
      "std      9.400239e+04\n",
      "min      2.651953e+01\n",
      "25%      3.131487e+02\n",
      "50%      6.630736e+02\n",
      "75%      6.955045e+02\n",
      "max      1.713234e+06\n",
      "Name: viewCount/subscriberCount, dtype: float64\n"
     ]
    }
   ],
   "source": [
    "#Nous pouvons voir les informations relatives à cette variable, notamment le min et le max qui nous interessent\n",
    "print(dftox['viewCount/subscriberCount'].describe())"
   ]
  },
  {
   "cell_type": "code",
   "execution_count": 64,
   "metadata": {},
   "outputs": [
    {
     "name": "stdout",
     "output_type": "stream",
     "text": [
      "tranche 1:  571069.1601554907\n",
      "tranche 2:  1142138.3203109815\n"
     ]
    }
   ],
   "source": [
    "#Nous déterminons les frontières de chacune de nos tranches\n",
    "#omme il y'a 3 tranches, il y'a 2 frontières une à 1/3, l'autre à 2/3, que l'on calcule comme ça: \n",
    "\n",
    "print('tranche 1: ',(dftox['viewCount/subscriberCount'].max()-dftox['viewCount/subscriberCount'].min())/3)\n",
    "print('tranche 2: ',(dftox['viewCount/subscriberCount'].max()-dftox['viewCount/subscriberCount'].min())*(2/3))"
   ]
  },
  {
   "cell_type": "code",
   "execution_count": 65,
   "metadata": {},
   "outputs": [],
   "source": [
    "#Nous créeons une fonction qui attribura à la variable la valeur 1, 2 ou 3 en fonction de sa valeur et donc de son appartenance aux tranches 1, 2 ou 3\n",
    "\n",
    "def f(x):\n",
    "    if x<=5.7107*10**5:\n",
    "        return(1)\n",
    "    elif x<=1.1421*10**6:\n",
    "        return(2)\n",
    "    else: return(3)\n",
    "\n",
    "#On applique cette fonction à l'ensemble des valeurs de la variable 'viewCount/subscriberCount'\n",
    "dftox['viewCount/subscriberCount']=dftox['viewCount/subscriberCount'].apply(lambda x: f(x))"
   ]
  },
  {
   "cell_type": "code",
   "execution_count": 66,
   "metadata": {},
   "outputs": [
    {
     "name": "stdout",
     "output_type": "stream",
     "text": [
      "0        1\n",
      "1        1\n",
      "2        1\n",
      "3        1\n",
      "4        1\n",
      "        ..\n",
      "46097    1\n",
      "46098    1\n",
      "46099    1\n",
      "46100    1\n",
      "46101    1\n",
      "Name: viewCount/subscriberCount, Length: 46102, dtype: int64\n",
      "count    46102.000000\n",
      "mean         1.006269\n",
      "std          0.103221\n",
      "min          1.000000\n",
      "25%          1.000000\n",
      "50%          1.000000\n",
      "75%          1.000000\n",
      "max          3.000000\n",
      "Name: viewCount/subscriberCount, dtype: float64\n"
     ]
    }
   ],
   "source": [
    "#Verification de la bonne modification\n",
    "print(dftox['viewCount/subscriberCount'])\n",
    "print(dftox['viewCount/subscriberCount'].describe())\n"
   ]
  },
  {
   "cell_type": "raw",
   "metadata": {},
   "source": [
    "Beaucoup de vidéos se situent dans la tranche inférieur pour cette variable"
   ]
  },
  {
   "cell_type": "markdown",
   "metadata": {},
   "source": [
    "# On effectue le même processus pour l'ensemble des variables de la dataframe dftox (on ne détaillera pas les calculs vérifiés à la main)"
   ]
  },
  {
   "cell_type": "code",
   "execution_count": 67,
   "metadata": {},
   "outputs": [],
   "source": [
    "def f(x):\n",
    "    if x<=54:\n",
    "        return(1)\n",
    "    elif x<=108:\n",
    "        return(2)\n",
    "    else: return(3)\n",
    "dftox['nbrMotMAJMoyenne']=dftox['nbrMotMAJMoyenne'].apply(lambda x: f(x))"
   ]
  },
  {
   "cell_type": "code",
   "execution_count": 68,
   "metadata": {},
   "outputs": [],
   "source": [
    "def f(x):\n",
    "    if x<=9.33:\n",
    "        return(1)\n",
    "    elif x<=18.66:\n",
    "        return(2)\n",
    "    else: return(3)\n",
    "dftox['nbrMotAllongMoyenne']=dftox['nbrMotAllongMoyenne'].apply(lambda x: f(x))"
   ]
  },
  {
   "cell_type": "code",
   "execution_count": 69,
   "metadata": {},
   "outputs": [],
   "source": [
    "def f(x):\n",
    "    if x<=4.66:\n",
    "        return(1)\n",
    "    elif x<=9.33:\n",
    "        return(2)\n",
    "    else: return(3)\n",
    "dftox['nbrMotInsulteMoyenne']=dftox['nbrMotInsulteMoyenne'].apply(lambda x: f(x))"
   ]
  },
  {
   "cell_type": "code",
   "execution_count": 70,
   "metadata": {},
   "outputs": [],
   "source": [
    "def f(x):\n",
    "    if x<=34.66:\n",
    "        return(1)\n",
    "    elif x<=69.33:\n",
    "        return(2)\n",
    "    else: return(3)\n",
    "dftox['nbrExclMarkMoyenne']=dftox['nbrExclMarkMoyenne'].apply(lambda x: f(x))"
   ]
  },
  {
   "cell_type": "code",
   "execution_count": 71,
   "metadata": {},
   "outputs": [],
   "source": [
    "def f(x):\n",
    "    if x<=40.25:\n",
    "        return(1)\n",
    "    elif x<=80.5:\n",
    "        return(2)\n",
    "    else: return(3)\n",
    "dftox['nbrQuestMarkMoyenne']=dftox['nbrQuestMarkMoyenne'].apply(lambda x: f(x))"
   ]
  },
  {
   "cell_type": "code",
   "execution_count": 72,
   "metadata": {},
   "outputs": [],
   "source": [
    "def f(x):\n",
    "    if x<=0.4:\n",
    "        return(1)\n",
    "    elif x<=0.8:\n",
    "        return(2)\n",
    "    else: return(3)\n",
    "dftox['nbrMotInsulte/nbrMot']=dftox['nbrMotInsulte/nbrMot'].apply(lambda x: f(x))"
   ]
  },
  {
   "cell_type": "code",
   "execution_count": 73,
   "metadata": {},
   "outputs": [],
   "source": [
    "def f(x):\n",
    "    if x<=0.33:\n",
    "        return(1)\n",
    "    elif x<=0.66:\n",
    "        return(2)\n",
    "    else: return(3)\n",
    "dftox['nbrMotAllong/nbrMot']=dftox['nbrMotAllong/nbrMot'].apply(lambda x: f(x))"
   ]
  },
  {
   "cell_type": "code",
   "execution_count": 74,
   "metadata": {},
   "outputs": [],
   "source": [
    "def f(x):\n",
    "    if x<=0.34:\n",
    "        return(1)\n",
    "    elif x<=0.68:\n",
    "        return(2)\n",
    "    else: return(3)\n",
    "dftox['nbrMotMAJ/nbrMot']=dftox['nbrMotMAJ/nbrMot'].apply(lambda x: f(x))"
   ]
  },
  {
   "cell_type": "code",
   "execution_count": 75,
   "metadata": {},
   "outputs": [],
   "source": [
    "def f(x):\n",
    "    if x<=7.5:\n",
    "        return(1)\n",
    "    elif x<=15:\n",
    "        return(2)\n",
    "    else: return(3)\n",
    "dftox['nbrExclMark/nbrMot']=dftox['nbrExclMark/nbrMot'].apply(lambda x: f(x))"
   ]
  },
  {
   "cell_type": "code",
   "execution_count": 76,
   "metadata": {},
   "outputs": [],
   "source": [
    "def f(x):\n",
    "    if x<=6.66:\n",
    "        return(1)\n",
    "    elif x<=13.33:\n",
    "        return(2)\n",
    "    else: return(3)\n",
    "dftox['nbrQuestMark/nbrMot']=dftox['nbrQuestMark/nbrMot'].apply(lambda x: f(x))"
   ]
  },
  {
   "cell_type": "code",
   "execution_count": 77,
   "metadata": {},
   "outputs": [],
   "source": [
    "def f(x):\n",
    "    if x<=0.32:\n",
    "        return(1)\n",
    "    elif x<=0.64:\n",
    "        return(2)\n",
    "    else: return(3)\n",
    "dftox['comment_count/message_count']=dftox['comment_count/message_count'].apply(lambda x: f(x))"
   ]
  },
  {
   "cell_type": "code",
   "execution_count": 78,
   "metadata": {},
   "outputs": [],
   "source": [
    "def f(x):\n",
    "    if x<=0.16:\n",
    "        return(1)\n",
    "    elif x<=0.34:\n",
    "        return(2)\n",
    "    else: return(3)\n",
    "dftox['discussion_count/message_count']=dftox['discussion_count/message_count'].apply(lambda x: f(x))"
   ]
  },
  {
   "cell_type": "code",
   "execution_count": 79,
   "metadata": {},
   "outputs": [
    {
     "data": {
      "text/html": [
       "<div>\n",
       "<style scoped>\n",
       "    .dataframe tbody tr th:only-of-type {\n",
       "        vertical-align: middle;\n",
       "    }\n",
       "\n",
       "    .dataframe tbody tr th {\n",
       "        vertical-align: top;\n",
       "    }\n",
       "\n",
       "    .dataframe thead th {\n",
       "        text-align: right;\n",
       "    }\n",
       "</style>\n",
       "<table border=\"1\" class=\"dataframe\">\n",
       "  <thead>\n",
       "    <tr style=\"text-align: right;\">\n",
       "      <th></th>\n",
       "      <th>nbrMotInsulteMoyenne</th>\n",
       "      <th>nbrMotAllongMoyenne</th>\n",
       "      <th>nbrMotMAJMoyenne</th>\n",
       "      <th>nbrExclMarkMoyenne</th>\n",
       "      <th>nbrQuestMarkMoyenne</th>\n",
       "      <th>nbrMotInsulte/nbrMot</th>\n",
       "      <th>nbrMotAllong/nbrMot</th>\n",
       "      <th>nbrMotMAJ/nbrMot</th>\n",
       "      <th>nbrExclMark/nbrMot</th>\n",
       "      <th>nbrQuestMark/nbrMot</th>\n",
       "      <th>comment_count/message_count</th>\n",
       "      <th>discussion_count/message_count</th>\n",
       "      <th>viewCount/subscriberCount</th>\n",
       "    </tr>\n",
       "  </thead>\n",
       "  <tbody>\n",
       "    <tr>\n",
       "      <th>0</th>\n",
       "      <td>1</td>\n",
       "      <td>1</td>\n",
       "      <td>1</td>\n",
       "      <td>1</td>\n",
       "      <td>1</td>\n",
       "      <td>1</td>\n",
       "      <td>1</td>\n",
       "      <td>1</td>\n",
       "      <td>1</td>\n",
       "      <td>1</td>\n",
       "      <td>3</td>\n",
       "      <td>2</td>\n",
       "      <td>1</td>\n",
       "    </tr>\n",
       "    <tr>\n",
       "      <th>1</th>\n",
       "      <td>1</td>\n",
       "      <td>1</td>\n",
       "      <td>1</td>\n",
       "      <td>1</td>\n",
       "      <td>1</td>\n",
       "      <td>1</td>\n",
       "      <td>1</td>\n",
       "      <td>1</td>\n",
       "      <td>1</td>\n",
       "      <td>1</td>\n",
       "      <td>1</td>\n",
       "      <td>1</td>\n",
       "      <td>1</td>\n",
       "    </tr>\n",
       "    <tr>\n",
       "      <th>2</th>\n",
       "      <td>1</td>\n",
       "      <td>1</td>\n",
       "      <td>1</td>\n",
       "      <td>1</td>\n",
       "      <td>1</td>\n",
       "      <td>1</td>\n",
       "      <td>1</td>\n",
       "      <td>1</td>\n",
       "      <td>1</td>\n",
       "      <td>1</td>\n",
       "      <td>2</td>\n",
       "      <td>1</td>\n",
       "      <td>1</td>\n",
       "    </tr>\n",
       "    <tr>\n",
       "      <th>3</th>\n",
       "      <td>1</td>\n",
       "      <td>1</td>\n",
       "      <td>1</td>\n",
       "      <td>1</td>\n",
       "      <td>1</td>\n",
       "      <td>1</td>\n",
       "      <td>1</td>\n",
       "      <td>2</td>\n",
       "      <td>1</td>\n",
       "      <td>1</td>\n",
       "      <td>1</td>\n",
       "      <td>1</td>\n",
       "      <td>1</td>\n",
       "    </tr>\n",
       "    <tr>\n",
       "      <th>4</th>\n",
       "      <td>1</td>\n",
       "      <td>1</td>\n",
       "      <td>1</td>\n",
       "      <td>1</td>\n",
       "      <td>1</td>\n",
       "      <td>1</td>\n",
       "      <td>1</td>\n",
       "      <td>1</td>\n",
       "      <td>1</td>\n",
       "      <td>1</td>\n",
       "      <td>1</td>\n",
       "      <td>2</td>\n",
       "      <td>1</td>\n",
       "    </tr>\n",
       "    <tr>\n",
       "      <th>...</th>\n",
       "      <td>...</td>\n",
       "      <td>...</td>\n",
       "      <td>...</td>\n",
       "      <td>...</td>\n",
       "      <td>...</td>\n",
       "      <td>...</td>\n",
       "      <td>...</td>\n",
       "      <td>...</td>\n",
       "      <td>...</td>\n",
       "      <td>...</td>\n",
       "      <td>...</td>\n",
       "      <td>...</td>\n",
       "      <td>...</td>\n",
       "    </tr>\n",
       "    <tr>\n",
       "      <th>46097</th>\n",
       "      <td>1</td>\n",
       "      <td>1</td>\n",
       "      <td>1</td>\n",
       "      <td>1</td>\n",
       "      <td>1</td>\n",
       "      <td>1</td>\n",
       "      <td>1</td>\n",
       "      <td>1</td>\n",
       "      <td>1</td>\n",
       "      <td>1</td>\n",
       "      <td>1</td>\n",
       "      <td>1</td>\n",
       "      <td>1</td>\n",
       "    </tr>\n",
       "    <tr>\n",
       "      <th>46098</th>\n",
       "      <td>1</td>\n",
       "      <td>1</td>\n",
       "      <td>1</td>\n",
       "      <td>1</td>\n",
       "      <td>1</td>\n",
       "      <td>1</td>\n",
       "      <td>1</td>\n",
       "      <td>1</td>\n",
       "      <td>1</td>\n",
       "      <td>1</td>\n",
       "      <td>1</td>\n",
       "      <td>1</td>\n",
       "      <td>1</td>\n",
       "    </tr>\n",
       "    <tr>\n",
       "      <th>46099</th>\n",
       "      <td>1</td>\n",
       "      <td>1</td>\n",
       "      <td>1</td>\n",
       "      <td>1</td>\n",
       "      <td>1</td>\n",
       "      <td>1</td>\n",
       "      <td>1</td>\n",
       "      <td>1</td>\n",
       "      <td>1</td>\n",
       "      <td>1</td>\n",
       "      <td>1</td>\n",
       "      <td>1</td>\n",
       "      <td>1</td>\n",
       "    </tr>\n",
       "    <tr>\n",
       "      <th>46100</th>\n",
       "      <td>1</td>\n",
       "      <td>1</td>\n",
       "      <td>1</td>\n",
       "      <td>1</td>\n",
       "      <td>1</td>\n",
       "      <td>1</td>\n",
       "      <td>1</td>\n",
       "      <td>1</td>\n",
       "      <td>1</td>\n",
       "      <td>1</td>\n",
       "      <td>2</td>\n",
       "      <td>2</td>\n",
       "      <td>1</td>\n",
       "    </tr>\n",
       "    <tr>\n",
       "      <th>46101</th>\n",
       "      <td>1</td>\n",
       "      <td>1</td>\n",
       "      <td>1</td>\n",
       "      <td>1</td>\n",
       "      <td>1</td>\n",
       "      <td>1</td>\n",
       "      <td>1</td>\n",
       "      <td>1</td>\n",
       "      <td>1</td>\n",
       "      <td>1</td>\n",
       "      <td>2</td>\n",
       "      <td>1</td>\n",
       "      <td>1</td>\n",
       "    </tr>\n",
       "  </tbody>\n",
       "</table>\n",
       "<p>46102 rows × 13 columns</p>\n",
       "</div>"
      ],
      "text/plain": [
       "       nbrMotInsulteMoyenne  nbrMotAllongMoyenne  nbrMotMAJMoyenne  \\\n",
       "0                         1                    1                 1   \n",
       "1                         1                    1                 1   \n",
       "2                         1                    1                 1   \n",
       "3                         1                    1                 1   \n",
       "4                         1                    1                 1   \n",
       "...                     ...                  ...               ...   \n",
       "46097                     1                    1                 1   \n",
       "46098                     1                    1                 1   \n",
       "46099                     1                    1                 1   \n",
       "46100                     1                    1                 1   \n",
       "46101                     1                    1                 1   \n",
       "\n",
       "       nbrExclMarkMoyenne  nbrQuestMarkMoyenne  nbrMotInsulte/nbrMot  \\\n",
       "0                       1                    1                     1   \n",
       "1                       1                    1                     1   \n",
       "2                       1                    1                     1   \n",
       "3                       1                    1                     1   \n",
       "4                       1                    1                     1   \n",
       "...                   ...                  ...                   ...   \n",
       "46097                   1                    1                     1   \n",
       "46098                   1                    1                     1   \n",
       "46099                   1                    1                     1   \n",
       "46100                   1                    1                     1   \n",
       "46101                   1                    1                     1   \n",
       "\n",
       "       nbrMotAllong/nbrMot  nbrMotMAJ/nbrMot  nbrExclMark/nbrMot  \\\n",
       "0                        1                 1                   1   \n",
       "1                        1                 1                   1   \n",
       "2                        1                 1                   1   \n",
       "3                        1                 2                   1   \n",
       "4                        1                 1                   1   \n",
       "...                    ...               ...                 ...   \n",
       "46097                    1                 1                   1   \n",
       "46098                    1                 1                   1   \n",
       "46099                    1                 1                   1   \n",
       "46100                    1                 1                   1   \n",
       "46101                    1                 1                   1   \n",
       "\n",
       "       nbrQuestMark/nbrMot  comment_count/message_count  \\\n",
       "0                        1                            3   \n",
       "1                        1                            1   \n",
       "2                        1                            2   \n",
       "3                        1                            1   \n",
       "4                        1                            1   \n",
       "...                    ...                          ...   \n",
       "46097                    1                            1   \n",
       "46098                    1                            1   \n",
       "46099                    1                            1   \n",
       "46100                    1                            2   \n",
       "46101                    1                            2   \n",
       "\n",
       "       discussion_count/message_count  viewCount/subscriberCount  \n",
       "0                                   2                          1  \n",
       "1                                   1                          1  \n",
       "2                                   1                          1  \n",
       "3                                   1                          1  \n",
       "4                                   2                          1  \n",
       "...                               ...                        ...  \n",
       "46097                               1                          1  \n",
       "46098                               1                          1  \n",
       "46099                               1                          1  \n",
       "46100                               2                          1  \n",
       "46101                               1                          1  \n",
       "\n",
       "[46102 rows x 13 columns]"
      ]
     },
     "execution_count": 79,
     "metadata": {},
     "output_type": "execute_result"
    }
   ],
   "source": [
    "#On obtient la dataframe suivante \n",
    "dftox"
   ]
  },
  {
   "cell_type": "code",
   "execution_count": 80,
   "metadata": {},
   "outputs": [
    {
     "data": {
      "text/plain": [
       "nbrMotInsulteMoyenne              int64\n",
       "nbrMotAllongMoyenne               int64\n",
       "nbrMotMAJMoyenne                  int64\n",
       "nbrExclMarkMoyenne                int64\n",
       "nbrQuestMarkMoyenne               int64\n",
       "nbrMotInsulte/nbrMot              int64\n",
       "nbrMotAllong/nbrMot               int64\n",
       "nbrMotMAJ/nbrMot                  int64\n",
       "nbrExclMark/nbrMot                int64\n",
       "nbrQuestMark/nbrMot               int64\n",
       "comment_count/message_count       int64\n",
       "discussion_count/message_count    int64\n",
       "viewCount/subscriberCount         int64\n",
       "dtype: object"
      ]
     },
     "execution_count": 80,
     "metadata": {},
     "output_type": "execute_result"
    }
   ],
   "source": [
    "#On vérifie que l'ensemble des élements de la dataframe a bien été convertie\n",
    "dftox.dtypes"
   ]
  },
  {
   "cell_type": "raw",
   "metadata": {},
   "source": [
    "On a bien notre dataframe dftox composée que de 1, 2 et 3 qui permet de trancher en 3 chaque variable. "
   ]
  },
  {
   "cell_type": "markdown",
   "metadata": {},
   "source": [
    "# Création du score de toxicité"
   ]
  },
  {
   "cell_type": "raw",
   "metadata": {},
   "source": [
    "Pour créer la variable 'score', on affecte à chaque variable le poids qu'on lui a déterminé (voir rapport) entre 5 et 1. Les variables avec un coefficients de 5 sont pour nous plus impliquées dans le caractère toxique d'une vidéo, celle avec un 1 le sont moins"
   ]
  },
  {
   "cell_type": "code",
   "execution_count": 81,
   "metadata": {},
   "outputs": [],
   "source": [
    "dftox['score']=(dftox['nbrMotInsulte/nbrMot']+dftox['nbrMotInsulteMoyenne'])*5+(dftox['comment_count/message_count']+dftox['discussion_count/message_count']+dftox['nbrMotMAJ/nbrMot'])*4 + (dftox['viewCount/subscriberCount']+dftox['nbrMotMAJMoyenne'])*3 +(dftox['nbrMotAllongMoyenne']+ dftox['nbrExclMarkMoyenne'] + dftox['nbrMotAllong/nbrMot']+ dftox['nbrExclMark/nbrMot'])*2 + (dftox['nbrQuestMark/nbrMot']+dftox['nbrQuestMarkMoyenne'])\n"
   ]
  },
  {
   "cell_type": "code",
   "execution_count": 82,
   "metadata": {},
   "outputs": [
    {
     "data": {
      "text/plain": [
       "count    46102.000000\n",
       "mean        40.789076\n",
       "std          3.812727\n",
       "min         38.000000\n",
       "25%         38.000000\n",
       "50%         38.000000\n",
       "75%         42.000000\n",
       "max         60.000000\n",
       "Name: score, dtype: float64"
      ]
     },
     "execution_count": 82,
     "metadata": {},
     "output_type": "execute_result"
    }
   ],
   "source": [
    "#Description de la variable score\n",
    "dftox['score'].describe()"
   ]
  },
  {
   "cell_type": "code",
   "execution_count": 83,
   "metadata": {},
   "outputs": [
    {
     "data": {
      "text/plain": [
       "<matplotlib.axes._subplots.AxesSubplot at 0x1d445155e80>"
      ]
     },
     "execution_count": 83,
     "metadata": {},
     "output_type": "execute_result"
    },
    {
     "data": {
      "image/png": "[encoded data removed]",
      "text/plain": [
       "<Figure size 432x288 with 1 Axes>"
      ]
     },
     "metadata": {
      "needs_background": "light"
     },
     "output_type": "display_data"
    }
   ],
   "source": [
    "#Distribution de la variable score\n",
    "sns.distplot(dftox['score'])"
   ]
  },
  {
   "cell_type": "raw",
   "metadata": {},
   "source": [
    "On observe 4 groupes distincts: un en dessous de 40, un autre entre 40 et 44, un autre entre 44 et 48 et le dernier au dessus de 48. \n",
    "On va donc créer la variable toxicité en 4 catégories, correspondantes à ces 4 tranches. "
   ]
  },
  {
   "cell_type": "markdown",
   "metadata": {},
   "source": [
    "# Création de la variable toxicité"
   ]
  },
  {
   "cell_type": "code",
   "execution_count": 84,
   "metadata": {},
   "outputs": [],
   "source": [
    "#création de la fonction permettant d'affecter une vidéo à son bon degré de toxicité en fonction de son score de toxicité\n",
    "def f(x):\n",
    "    if x<=40:\n",
    "        return('peu toxique')\n",
    "    elif x<=44:\n",
    "        return('assez toxique')\n",
    "    elif x<=48:\n",
    "        return('toxique')\n",
    "    else: return('très toxique')\n",
    "    \n",
    "#création de la variable toxique dans la dataframe dftox en appliquant la fonction précédant à la colonne 'score'\n",
    "dftox['toxic'] = dftox['score'].apply(lambda x: f(x))"
   ]
  },
  {
   "cell_type": "code",
   "execution_count": 85,
   "metadata": {},
   "outputs": [
    {
     "data": {
      "text/plain": [
       "peu toxique      27507\n",
       "toxique           8470\n",
       "assez toxique     7674\n",
       "très toxique      2451\n",
       "Name: toxic, dtype: int64"
      ]
     },
     "execution_count": 85,
     "metadata": {},
     "output_type": "execute_result"
    }
   ],
   "source": [
    "#répartition du nombre de vidéo dans chaque catégorie qualifiant la toxicité\n",
    "dftox['toxic'].value_counts()"
   ]
  },
  {
   "cell_type": "raw",
   "metadata": {},
   "source": [
    "La répartition des vidéos dans ces catégories montre que beaucoup des vidéos de la dataframe sont peu toxique. "
   ]
  },
  {
   "cell_type": "markdown",
   "metadata": {},
   "source": [
    "# Création de la dataframe utilisée pour les modèles de machine learning"
   ]
  },
  {
   "cell_type": "raw",
   "metadata": {},
   "source": [
    "Afin d'avoir des données assez complètes pour tester les différents modèles de machine learning, nous reprenons la dataframe plus complètes comprenant les valeurs exactes de nos variables, nous avions sotcké ces données dans la dataframe dftox2. "
   ]
  },
  {
   "cell_type": "raw",
   "metadata": {},
   "source": [
    "On reporte seulement la colonne de la variable target 'toxic' à cette dataframe"
   ]
  },
  {
   "cell_type": "code",
   "execution_count": 86,
   "metadata": {},
   "outputs": [
    {
     "data": {
      "text/html": [
       "<div>\n",
       "<style scoped>\n",
       "    .dataframe tbody tr th:only-of-type {\n",
       "        vertical-align: middle;\n",
       "    }\n",
       "\n",
       "    .dataframe tbody tr th {\n",
       "        vertical-align: top;\n",
       "    }\n",
       "\n",
       "    .dataframe thead th {\n",
       "        text-align: right;\n",
       "    }\n",
       "</style>\n",
       "<table border=\"1\" class=\"dataframe\">\n",
       "  <thead>\n",
       "    <tr style=\"text-align: right;\">\n",
       "      <th></th>\n",
       "      <th>nbrMotInsulteMoyenne</th>\n",
       "      <th>nbrMotAllongMoyenne</th>\n",
       "      <th>nbrMotMAJMoyenne</th>\n",
       "      <th>nbrExclMarkMoyenne</th>\n",
       "      <th>nbrQuestMarkMoyenne</th>\n",
       "      <th>nbrMotInsulte/nbrMot</th>\n",
       "      <th>nbrMotAllong/nbrMot</th>\n",
       "      <th>nbrMotMAJ/nbrMot</th>\n",
       "      <th>nbrExclMark/nbrMot</th>\n",
       "      <th>nbrQuestMark/nbrMot</th>\n",
       "      <th>comment_count/message_count</th>\n",
       "      <th>discussion_count/message_count</th>\n",
       "      <th>viewCount/subscriberCount</th>\n",
       "      <th>toxic</th>\n",
       "    </tr>\n",
       "  </thead>\n",
       "  <tbody>\n",
       "    <tr>\n",
       "      <th>0</th>\n",
       "      <td>0.142857</td>\n",
       "      <td>0.031746</td>\n",
       "      <td>1.150794</td>\n",
       "      <td>0.626984</td>\n",
       "      <td>0.476190</td>\n",
       "      <td>0.004721</td>\n",
       "      <td>0.001049</td>\n",
       "      <td>0.038028</td>\n",
       "      <td>0.020719</td>\n",
       "      <td>0.015736</td>\n",
       "      <td>0.642857</td>\n",
       "      <td>0.222222</td>\n",
       "      <td>663.073623</td>\n",
       "      <td>très toxique</td>\n",
       "    </tr>\n",
       "    <tr>\n",
       "      <th>1</th>\n",
       "      <td>0.666667</td>\n",
       "      <td>0.000000</td>\n",
       "      <td>0.333333</td>\n",
       "      <td>0.000000</td>\n",
       "      <td>0.000000</td>\n",
       "      <td>0.071429</td>\n",
       "      <td>0.000000</td>\n",
       "      <td>0.035714</td>\n",
       "      <td>0.000000</td>\n",
       "      <td>0.000000</td>\n",
       "      <td>0.000000</td>\n",
       "      <td>0.000000</td>\n",
       "      <td>695.504540</td>\n",
       "      <td>peu toxique</td>\n",
       "    </tr>\n",
       "    <tr>\n",
       "      <th>2</th>\n",
       "      <td>0.492754</td>\n",
       "      <td>0.065217</td>\n",
       "      <td>0.405797</td>\n",
       "      <td>0.543478</td>\n",
       "      <td>0.391304</td>\n",
       "      <td>0.017876</td>\n",
       "      <td>0.002366</td>\n",
       "      <td>0.014721</td>\n",
       "      <td>0.019716</td>\n",
       "      <td>0.014196</td>\n",
       "      <td>0.623188</td>\n",
       "      <td>0.159420</td>\n",
       "      <td>663.073623</td>\n",
       "      <td>assez toxique</td>\n",
       "    </tr>\n",
       "    <tr>\n",
       "      <th>3</th>\n",
       "      <td>0.000000</td>\n",
       "      <td>0.500000</td>\n",
       "      <td>1.000000</td>\n",
       "      <td>0.000000</td>\n",
       "      <td>0.000000</td>\n",
       "      <td>0.000000</td>\n",
       "      <td>0.250000</td>\n",
       "      <td>0.500000</td>\n",
       "      <td>0.000000</td>\n",
       "      <td>0.000000</td>\n",
       "      <td>0.000000</td>\n",
       "      <td>0.000000</td>\n",
       "      <td>866.911251</td>\n",
       "      <td>assez toxique</td>\n",
       "    </tr>\n",
       "    <tr>\n",
       "      <th>4</th>\n",
       "      <td>0.130435</td>\n",
       "      <td>0.043478</td>\n",
       "      <td>0.782609</td>\n",
       "      <td>0.217391</td>\n",
       "      <td>0.260870</td>\n",
       "      <td>0.004071</td>\n",
       "      <td>0.001357</td>\n",
       "      <td>0.024423</td>\n",
       "      <td>0.006784</td>\n",
       "      <td>0.008141</td>\n",
       "      <td>0.260870</td>\n",
       "      <td>0.173913</td>\n",
       "      <td>223.616694</td>\n",
       "      <td>assez toxique</td>\n",
       "    </tr>\n",
       "    <tr>\n",
       "      <th>...</th>\n",
       "      <td>...</td>\n",
       "      <td>...</td>\n",
       "      <td>...</td>\n",
       "      <td>...</td>\n",
       "      <td>...</td>\n",
       "      <td>...</td>\n",
       "      <td>...</td>\n",
       "      <td>...</td>\n",
       "      <td>...</td>\n",
       "      <td>...</td>\n",
       "      <td>...</td>\n",
       "      <td>...</td>\n",
       "      <td>...</td>\n",
       "      <td>...</td>\n",
       "    </tr>\n",
       "    <tr>\n",
       "      <th>46097</th>\n",
       "      <td>0.000000</td>\n",
       "      <td>0.000000</td>\n",
       "      <td>0.000000</td>\n",
       "      <td>1.000000</td>\n",
       "      <td>0.000000</td>\n",
       "      <td>0.000000</td>\n",
       "      <td>0.000000</td>\n",
       "      <td>0.000000</td>\n",
       "      <td>0.187500</td>\n",
       "      <td>0.000000</td>\n",
       "      <td>0.000000</td>\n",
       "      <td>0.000000</td>\n",
       "      <td>573.999000</td>\n",
       "      <td>peu toxique</td>\n",
       "    </tr>\n",
       "    <tr>\n",
       "      <th>46098</th>\n",
       "      <td>1.000000</td>\n",
       "      <td>1.000000</td>\n",
       "      <td>0.000000</td>\n",
       "      <td>0.000000</td>\n",
       "      <td>1.000000</td>\n",
       "      <td>0.004386</td>\n",
       "      <td>0.004386</td>\n",
       "      <td>0.000000</td>\n",
       "      <td>0.000000</td>\n",
       "      <td>0.004386</td>\n",
       "      <td>0.000000</td>\n",
       "      <td>0.000000</td>\n",
       "      <td>236.663387</td>\n",
       "      <td>peu toxique</td>\n",
       "    </tr>\n",
       "    <tr>\n",
       "      <th>46099</th>\n",
       "      <td>0.250000</td>\n",
       "      <td>0.000000</td>\n",
       "      <td>0.375000</td>\n",
       "      <td>0.250000</td>\n",
       "      <td>0.000000</td>\n",
       "      <td>0.006969</td>\n",
       "      <td>0.000000</td>\n",
       "      <td>0.010453</td>\n",
       "      <td>0.006969</td>\n",
       "      <td>0.000000</td>\n",
       "      <td>0.000000</td>\n",
       "      <td>0.000000</td>\n",
       "      <td>695.504540</td>\n",
       "      <td>peu toxique</td>\n",
       "    </tr>\n",
       "    <tr>\n",
       "      <th>46100</th>\n",
       "      <td>0.000000</td>\n",
       "      <td>0.000000</td>\n",
       "      <td>0.000000</td>\n",
       "      <td>2.000000</td>\n",
       "      <td>1.000000</td>\n",
       "      <td>0.000000</td>\n",
       "      <td>0.000000</td>\n",
       "      <td>0.000000</td>\n",
       "      <td>0.034091</td>\n",
       "      <td>0.017045</td>\n",
       "      <td>0.333333</td>\n",
       "      <td>0.333333</td>\n",
       "      <td>777.782559</td>\n",
       "      <td>toxique</td>\n",
       "    </tr>\n",
       "    <tr>\n",
       "      <th>46101</th>\n",
       "      <td>0.205962</td>\n",
       "      <td>0.089431</td>\n",
       "      <td>0.453929</td>\n",
       "      <td>0.239837</td>\n",
       "      <td>0.242547</td>\n",
       "      <td>0.009152</td>\n",
       "      <td>0.003974</td>\n",
       "      <td>0.020171</td>\n",
       "      <td>0.010658</td>\n",
       "      <td>0.010778</td>\n",
       "      <td>0.638211</td>\n",
       "      <td>0.065041</td>\n",
       "      <td>663.073623</td>\n",
       "      <td>assez toxique</td>\n",
       "    </tr>\n",
       "  </tbody>\n",
       "</table>\n",
       "<p>46102 rows × 14 columns</p>\n",
       "</div>"
      ],
      "text/plain": [
       "       nbrMotInsulteMoyenne  nbrMotAllongMoyenne  nbrMotMAJMoyenne  \\\n",
       "0                  0.142857             0.031746          1.150794   \n",
       "1                  0.666667             0.000000          0.333333   \n",
       "2                  0.492754             0.065217          0.405797   \n",
       "3                  0.000000             0.500000          1.000000   \n",
       "4                  0.130435             0.043478          0.782609   \n",
       "...                     ...                  ...               ...   \n",
       "46097              0.000000             0.000000          0.000000   \n",
       "46098              1.000000             1.000000          0.000000   \n",
       "46099              0.250000             0.000000          0.375000   \n",
       "46100              0.000000             0.000000          0.000000   \n",
       "46101              0.205962             0.089431          0.453929   \n",
       "\n",
       "       nbrExclMarkMoyenne  nbrQuestMarkMoyenne  nbrMotInsulte/nbrMot  \\\n",
       "0                0.626984             0.476190              0.004721   \n",
       "1                0.000000             0.000000              0.071429   \n",
       "2                0.543478             0.391304              0.017876   \n",
       "3                0.000000             0.000000              0.000000   \n",
       "4                0.217391             0.260870              0.004071   \n",
       "...                   ...                  ...                   ...   \n",
       "46097            1.000000             0.000000              0.000000   \n",
       "46098            0.000000             1.000000              0.004386   \n",
       "46099            0.250000             0.000000              0.006969   \n",
       "46100            2.000000             1.000000              0.000000   \n",
       "46101            0.239837             0.242547              0.009152   \n",
       "\n",
       "       nbrMotAllong/nbrMot  nbrMotMAJ/nbrMot  nbrExclMark/nbrMot  \\\n",
       "0                 0.001049          0.038028            0.020719   \n",
       "1                 0.000000          0.035714            0.000000   \n",
       "2                 0.002366          0.014721            0.019716   \n",
       "3                 0.250000          0.500000            0.000000   \n",
       "4                 0.001357          0.024423            0.006784   \n",
       "...                    ...               ...                 ...   \n",
       "46097             0.000000          0.000000            0.187500   \n",
       "46098             0.004386          0.000000            0.000000   \n",
       "46099             0.000000          0.010453            0.006969   \n",
       "46100             0.000000          0.000000            0.034091   \n",
       "46101             0.003974          0.020171            0.010658   \n",
       "\n",
       "       nbrQuestMark/nbrMot  comment_count/message_count  \\\n",
       "0                 0.015736                     0.642857   \n",
       "1                 0.000000                     0.000000   \n",
       "2                 0.014196                     0.623188   \n",
       "3                 0.000000                     0.000000   \n",
       "4                 0.008141                     0.260870   \n",
       "...                    ...                          ...   \n",
       "46097             0.000000                     0.000000   \n",
       "46098             0.004386                     0.000000   \n",
       "46099             0.000000                     0.000000   \n",
       "46100             0.017045                     0.333333   \n",
       "46101             0.010778                     0.638211   \n",
       "\n",
       "       discussion_count/message_count  viewCount/subscriberCount  \\\n",
       "0                            0.222222                 663.073623   \n",
       "1                            0.000000                 695.504540   \n",
       "2                            0.159420                 663.073623   \n",
       "3                            0.000000                 866.911251   \n",
       "4                            0.173913                 223.616694   \n",
       "...                               ...                        ...   \n",
       "46097                        0.000000                 573.999000   \n",
       "46098                        0.000000                 236.663387   \n",
       "46099                        0.000000                 695.504540   \n",
       "46100                        0.333333                 777.782559   \n",
       "46101                        0.065041                 663.073623   \n",
       "\n",
       "               toxic  \n",
       "0       très toxique  \n",
       "1        peu toxique  \n",
       "2      assez toxique  \n",
       "3      assez toxique  \n",
       "4      assez toxique  \n",
       "...              ...  \n",
       "46097    peu toxique  \n",
       "46098    peu toxique  \n",
       "46099    peu toxique  \n",
       "46100        toxique  \n",
       "46101  assez toxique  \n",
       "\n",
       "[46102 rows x 14 columns]"
      ]
     },
     "execution_count": 86,
     "metadata": {},
     "output_type": "execute_result"
    }
   ],
   "source": [
    "dftox2['toxic']=dftox['toxic']\n",
    "dftox2"
   ]
  },
  {
   "cell_type": "markdown",
   "metadata": {},
   "source": [
    "# Création du Train_test et Train_set"
   ]
  },
  {
   "cell_type": "code",
   "execution_count": 87,
   "metadata": {},
   "outputs": [],
   "source": [
    "#on sépare la dataframe dftox2 en deux dataframe, une train_set et une test_test (80%/20%)\n",
    "from sklearn.model_selection import train_test_split\n",
    "train_set, test_set = train_test_split(dftox2, test_size = 0.2, random_state = 1)"
   ]
  },
  {
   "cell_type": "code",
   "execution_count": 88,
   "metadata": {},
   "outputs": [],
   "source": [
    "#On prépare la fonction qui permet de déterminer les features X de la variable target y\n",
    "def preprocessing(dftox2):\n",
    "    \n",
    "    X = dftox2.drop(['toxic'], axis=1)\n",
    "    y = dftox2['toxic']\n",
    "    \n",
    "    print(X.shape, y.shape)\n",
    "    return X,y"
   ]
  },
  {
   "cell_type": "code",
   "execution_count": 89,
   "metadata": {},
   "outputs": [
    {
     "name": "stdout",
     "output_type": "stream",
     "text": [
      "(36881, 13) (36881,)\n",
      "(9221, 13) (9221,)\n"
     ]
    }
   ],
   "source": [
    "#on applique la fonction précédente au train_set et au test_set afin d'avoir pour l'entrainement et le test des features et les variables target\n",
    "X_train, y_train = preprocessing(train_set) \n",
    "X_test, y_test = preprocessing(test_set) "
   ]
  },
  {
   "cell_type": "markdown",
   "metadata": {},
   "source": [
    "# Test des différents modèles de classification"
   ]
  },
  {
   "cell_type": "code",
   "execution_count": null,
   "metadata": {},
   "outputs": [],
   "source": [
    "#import des différents modèles\n",
    "from sklearn.ensemble import RandomForestClassifier\n",
    "from sklearn.tree import DecisionTreeClassifier\n",
    "from sklearn.linear_model import LogisticRegression\n",
    "from sklearn.neighbors import KNeighborsClassifier\n",
    "from sklearn.svm import SVC\n",
    "from sklearn.ensemble import GradientBoostingClassifier"
   ]
  },
  {
   "cell_type": "code",
   "execution_count": 95,
   "metadata": {},
   "outputs": [],
   "source": [
    "#import des outils d'analyse des modèles\n",
    "from sklearn.model_selection import GridSearchCV\n",
    "from sklearn.metrics import r2_score\n",
    "from sklearn.model_selection import learning_curve"
   ]
  },
  {
   "cell_type": "code",
   "execution_count": 96,
   "metadata": {},
   "outputs": [],
   "source": [
    "#établissement des modèles\n",
    "model_a = DecisionTreeClassifier(random_state=0)\n",
    "model_b = KNeighborsClassifier(n_neighbors=2)\n",
    "model_c = SVC()\n",
    "model_d = RandomForestClassifier()\n",
    "model_e = LogisticRegression()\n",
    "model_f = GradientBoostingClassifier()"
   ]
  },
  {
   "cell_type": "code",
   "execution_count": 97,
   "metadata": {},
   "outputs": [],
   "source": [
    "#création d'un dictionnaire de modèle\n",
    "dict_of_models = {'DecisionTree': model_a,\n",
    "                 'KNeighbors': model_b,\n",
    "                 'SVM': model_c, \n",
    "                 'RandomForest': model_d, \n",
    "                 'LogisticRegression': model_e,\n",
    "                 'GradientBoosting' : model_f}"
   ]
  },
  {
   "cell_type": "code",
   "execution_count": 98,
   "metadata": {},
   "outputs": [
    {
     "name": "stdout",
     "output_type": "stream",
     "text": [
      "DecisionTree\n",
      "0.999566207569678\n",
      "KNeighbors\n",
      "0.7795249972887973\n",
      "SVM\n",
      "0.601236308426418\n",
      "RandomForest\n",
      "0.9962043162346818\n",
      "LogisticRegression\n",
      "0.1642988829844919\n",
      "GradientBoosting\n",
      "0.9976141416332285\n"
     ]
    }
   ],
   "source": [
    "#On entraîne tous les modèles et on affiche leurs scores\n",
    "for name, model in dict_of_models.items():\n",
    "    \n",
    "    model.fit(X_train,y_train)\n",
    "    print(name)\n",
    "    print(model.score(X_test, y_test))"
   ]
  },
  {
   "cell_type": "raw",
   "metadata": {},
   "source": [
    "D'après les scores obtenus, on peut abandonner les modèles KNeighbors, SVM et LogisticRegression qui ont des scores très faibles. \n",
    "Les autres modèles avec des scores supérieurs à 0.99 sont très satisfaisants. Nous allons approfondir leur analyse. "
   ]
  },
  {
   "cell_type": "markdown",
   "metadata": {},
   "source": [
    "# Approfondissement de Decision Tree, Random Forest et Gradient Boosting"
   ]
  },
  {
   "cell_type": "code",
   "execution_count": 99,
   "metadata": {},
   "outputs": [
    {
     "name": "stdout",
     "output_type": "stream",
     "text": [
      "DecisionTree\n",
      "0.999566207569678\n",
      "RandomForest\n",
      "0.9964212124498427\n",
      "GradientBoosting\n",
      "0.9977225897408091\n"
     ]
    },
    {
     "data": {
      "image/png": "[encoded data removed]",
      "text/plain": [
       "<Figure size 864x576 with 1 Axes>"
      ]
     },
     "metadata": {
      "needs_background": "light"
     },
     "output_type": "display_data"
    },
    {
     "data": {
      "image/png": "[encoded data removed]",
      "text/plain": [
       "<Figure size 864x576 with 1 Axes>"
      ]
     },
     "metadata": {
      "needs_background": "light"
     },
     "output_type": "display_data"
    },
    {
     "data": {
      "image/png": "[encoded data removed]",
      "text/plain": [
       "<Figure size 864x576 with 1 Axes>"
      ]
     },
     "metadata": {
      "needs_background": "light"
     },
     "output_type": "display_data"
    }
   ],
   "source": [
    "#nouveau dictionnaire de modèle\n",
    "dict_of_models_performant = {'DecisionTree': model_a,\n",
    "                 'RandomForest': model_d, \n",
    "                 'GradientBoosting' : model_f}\n",
    "\n",
    "#on teste à nouveau les modèles afin d'obtenir les scores\n",
    "for name, model in dict_of_models_performant.items():\n",
    "    \n",
    "    model.fit(X_train,y_train)\n",
    "    print(name)\n",
    "    print(model.score(X_test, y_test))\n",
    "    \n",
    "    #on affiche les courbes d'entrainement et de validation\n",
    "    N, train_score, val_score = learning_curve(model, X_train, y_train,\n",
    "                                          cv=4, train_sizes=np.linspace(0.1,1,10))\n",
    "    \n",
    "    plt.figure(figsize=(12,8))\n",
    "    plt.plot(N, train_score.mean(axis=1), label='train score')\n",
    "    plt.plot(N, val_score.mean(axis=1), label='validation score')\n",
    "    plt.legend()\n",
    "    plt.title(name)"
   ]
  },
  {
   "cell_type": "raw",
   "metadata": {},
   "source": [
    "Pour les modèles Decision Tree et Random Forest, nous sommes en situation d'overfitting car la courbe d'entrainement est droite. \n",
    "Le modèle Gradient Boosting est quant à lui pas dans cette situation, on va donc tenter de l'améliorer afin d'obtenir un meilleur score et surtout pour que la courbe d'entrainement se rapproche au maximum de la courbe de test. "
   ]
  },
  {
   "cell_type": "markdown",
   "metadata": {},
   "source": [
    "# Amélioration du Gradient Boosting"
   ]
  },
  {
   "cell_type": "code",
   "execution_count": 101,
   "metadata": {},
   "outputs": [],
   "source": [
    "from sklearn.model_selection import GridSearchCV\n",
    "from sklearn.model_selection import RandomizedSearchCV\n",
    "from sklearn.pipeline import make_pipeline\n",
    "from sklearn.preprocessing import PolynomialFeatures , StandardScaler"
   ]
  },
  {
   "cell_type": "code",
   "execution_count": 102,
   "metadata": {},
   "outputs": [],
   "source": [
    "model = make_pipeline(PolynomialFeatures(),\n",
    "                     StandardScaler(),\n",
    "                     GradientBoostingClassifier())"
   ]
  },
  {
   "cell_type": "code",
   "execution_count": 103,
   "metadata": {},
   "outputs": [
    {
     "data": {
      "text/plain": [
       "Pipeline(steps=[('polynomialfeatures', PolynomialFeatures()),\n",
       "                ('standardscaler', StandardScaler()),\n",
       "                ('gradientboostingclassifier', GradientBoostingClassifier())])"
      ]
     },
     "execution_count": 103,
     "metadata": {},
     "output_type": "execute_result"
    }
   ],
   "source": [
    "model"
   ]
  },
  {
   "cell_type": "code",
   "execution_count": 104,
   "metadata": {},
   "outputs": [],
   "source": [
    "hyper_parameters = {'polynomialfeatures__degree' : [2,3],\n",
    "                    'gradientboostingclassifier__learning_rate': [0.01,0.03,0.04],\n",
    "                 'gradientboostingclassifier__subsample': [0.1,0.2,0.3],\n",
    "                  'gradientboostingclassifier__n_estimators': [50],\n",
    "                  'gradientboostingclassifier__max_depth': [6,7,8]\n",
    "                 }"
   ]
  },
  {
   "cell_type": "code",
   "execution_count": 105,
   "metadata": {},
   "outputs": [],
   "source": [
    "grid = RandomizedSearchCV(model,hyper_parameters, cv=2, n_iter=10)"
   ]
  },
  {
   "cell_type": "code",
   "execution_count": 106,
   "metadata": {},
   "outputs": [
    {
     "data": {
      "text/plain": [
       "RandomizedSearchCV(cv=2,\n",
       "                   estimator=Pipeline(steps=[('polynomialfeatures',\n",
       "                                              PolynomialFeatures()),\n",
       "                                             ('standardscaler',\n",
       "                                              StandardScaler()),\n",
       "                                             ('gradientboostingclassifier',\n",
       "                                              GradientBoostingClassifier())]),\n",
       "                   param_distributions={'gradientboostingclassifier__learning_rate': [0.01,\n",
       "                                                                                      0.03,\n",
       "                                                                                      0.04],\n",
       "                                        'gradientboostingclassifier__max_depth': [6,\n",
       "                                                                                  7,\n",
       "                                                                                  8],\n",
       "                                        'gradientboostingclassifier__n_estimators': [50],\n",
       "                                        'gradientboostingclassifier__subsample': [0.1,\n",
       "                                                                                  0.2,\n",
       "                                                                                  0.3],\n",
       "                                        'polynomialfeatures__degree': [2, 3]})"
      ]
     },
     "execution_count": 106,
     "metadata": {},
     "output_type": "execute_result"
    }
   ],
   "source": [
    "grid.fit(X_train, y_train)"
   ]
  },
  {
   "cell_type": "code",
   "execution_count": 107,
   "metadata": {},
   "outputs": [
    {
     "data": {
      "text/plain": [
       "{'polynomialfeatures__degree': 2,\n",
       " 'gradientboostingclassifier__subsample': 0.3,\n",
       " 'gradientboostingclassifier__n_estimators': 50,\n",
       " 'gradientboostingclassifier__max_depth': 8,\n",
       " 'gradientboostingclassifier__learning_rate': 0.03}"
      ]
     },
     "execution_count": 107,
     "metadata": {},
     "output_type": "execute_result"
    }
   ],
   "source": [
    "grid.best_params_"
   ]
  },
  {
   "cell_type": "code",
   "execution_count": 108,
   "metadata": {},
   "outputs": [
    {
     "data": {
      "text/plain": [
       "0.9973972454180674"
      ]
     },
     "execution_count": 108,
     "metadata": {},
     "output_type": "execute_result"
    }
   ],
   "source": [
    "grid.score(X_test, y_test)"
   ]
  },
  {
   "cell_type": "code",
   "execution_count": null,
   "metadata": {},
   "outputs": [],
   "source": [
    "N, train_score, val_score = learning_curve(grid, X_train, y_train,\n",
    "                                          cv=4, train_sizes=np.linspace(0.1,1,10))\n",
    "    \n",
    "plt.figure(figsize=(12,8))\n",
    "plt.plot(N, train_score.mean(axis=1), label='train score')\n",
    "plt.plot(N, val_score.mean(axis=1), label='validation score')\n",
    "plt.legend()"
   ]
  },
  {
   "cell_type": "raw",
   "metadata": {},
   "source": []
  }
 ],
 "metadata": {
  "kernelspec": {
   "display_name": "Python 3",
   "language": "python",
   "name": "python3"
  },
  "language_info": {
   "codemirror_mode": {
    "name": "ipython",
    "version": 3
   },
   "file_extension": ".py",
   "mimetype": "text/x-python",
   "name": "python",
   "nbconvert_exporter": "python",
   "pygments_lexer": "ipython3",
   "version": "3.8.3"
  }
 },
 "nbformat": 4,
 "nbformat_minor": 2
}
